{
 "cells": [
  {
   "cell_type": "markdown",
   "metadata": {},
   "source": [
    "# Import Package"
   ]
  },
  {
   "cell_type": "code",
   "execution_count": 272,
   "metadata": {},
   "outputs": [],
   "source": [
    "import pandas as pd\n",
    "import numpy as np\n",
    "import matplotlib.pyplot as plt\n",
    "import seaborn as sns\n",
    "\n",
    "from sklearn.linear_model import LogisticRegression # untuk  pemodelan dengan logistic regression\n",
    "from sklearn.neighbors import KNeighborsClassifier # untuk pemodelan dengan K Neighbors Classifier \n",
    "from sklearn.ensemble import RandomForestClassifier # untuk pemodelan dengan Random Forest Classifier\n",
    "from sklearn.tree import DecisionTreeClassifier # untuk pemodelan dengan Decision Tree Classifier\n",
    "from sklearn.svm import SVC # untuk pemodelan dengan Support Vector Machine dengan tipe Classification\n",
    "from xgboost import XGBClassifier # untuk pemodelan dengan XGBoost (Extreme Gradient Boosting) untuk tipe Classification\n",
    "from sklearn.ensemble import  AdaBoostClassifier # untuk pemodelan dengan Adaptive Boosting untuk tipe Classification\n",
    "\n",
    "from sklearn.model_selection import train_test_split # untuk spliting dataset menjadi train dan test sebagai bagian pemodelan\n",
    "from sklearn.metrics import accuracy_score, balanced_accuracy_score, f1_score, recall_score, precision_score # untuk analisis akurasi, F1, recall, dan precision jika analisis dengan classification report mengalami masalah\n",
    "from sklearn.metrics import classification_report, confusion_matrix # mengimport package tentang classification report dan confusion matrix\n",
    "from sklearn.metrics import log_loss, roc_auc_score, roc_curve, auc # ROC : receiver operating characteristic; AUC = Area under curve; Hindari AUC bernilai 0.5 ke bawah; 0.7 sudah bagus\n",
    "import statsmodels.api as sm # mengimport package tentang statsmodels untuk analisa sebuah model\n",
    "from sklearn.preprocessing import OneHotEncoder, LabelEncoder, RobustScaler, MinMaxScaler, StandardScaler # mengimport package tentang scaling sebagai bagian dari feature engineering\n",
    "\n",
    "from sklearn.model_selection import GridSearchCV # mengimport package tentang GridSearchCV untuk hyper parameter tuning dan cross validation (CV)\n",
    "\n",
    "# untuk mempermudah pemodelan dengan data yang berkategori numerical dan categorical, pipeline dapat digunakan.\n",
    "from sklearn.pipeline import Pipeline\n",
    "from sklearn.impute import SimpleImputer\n",
    "\n",
    "\n",
    "# Jika data bersifat imbalanced, beberapa package berikut dapat diimport untuk meng-handle imbalanced data\n",
    "from sklearn.utils import resample\n",
    "from imblearn.over_sampling import SMOTE\n",
    "from sklearn.compose import ColumnTransformer\n",
    "\n",
    "# Untuk mengekspor dataset ke dashboard\n",
    "import pickle\n",
    "import joblib\n",
    "\n",
    "%matplotlib inline\n",
    "\n",
    "pd.options.display.max_columns = 999 # biar koloom tidak ada titik2, ditampilkan semua\n",
    "pd.set_option('display.float_format', lambda x: '%.3f' % x)\n",
    "pd.options.display.float_format='{:,}'.format"
   ]
  },
  {
   "cell_type": "markdown",
   "metadata": {},
   "source": [
    "# Import Data"
   ]
  },
  {
   "cell_type": "code",
   "execution_count": 2,
   "metadata": {},
   "outputs": [
    {
     "data": {
      "text/html": [
       "<div>\n",
       "<style scoped>\n",
       "    .dataframe tbody tr th:only-of-type {\n",
       "        vertical-align: middle;\n",
       "    }\n",
       "\n",
       "    .dataframe tbody tr th {\n",
       "        vertical-align: top;\n",
       "    }\n",
       "\n",
       "    .dataframe thead th {\n",
       "        text-align: right;\n",
       "    }\n",
       "</style>\n",
       "<table border=\"1\" class=\"dataframe\">\n",
       "  <thead>\n",
       "    <tr style=\"text-align: right;\">\n",
       "      <th></th>\n",
       "      <th>RowNumber</th>\n",
       "      <th>CustomerId</th>\n",
       "      <th>Surname</th>\n",
       "      <th>CreditScore</th>\n",
       "      <th>Geography</th>\n",
       "      <th>Gender</th>\n",
       "      <th>Age</th>\n",
       "      <th>Tenure</th>\n",
       "      <th>Balance</th>\n",
       "      <th>NumOfProducts</th>\n",
       "      <th>HasCrCard</th>\n",
       "      <th>IsActiveMember</th>\n",
       "      <th>EstimatedSalary</th>\n",
       "      <th>Exited</th>\n",
       "    </tr>\n",
       "  </thead>\n",
       "  <tbody>\n",
       "    <tr>\n",
       "      <th>0</th>\n",
       "      <td>1</td>\n",
       "      <td>15634602</td>\n",
       "      <td>Hargrave</td>\n",
       "      <td>619</td>\n",
       "      <td>France</td>\n",
       "      <td>Female</td>\n",
       "      <td>42</td>\n",
       "      <td>2</td>\n",
       "      <td>0.0</td>\n",
       "      <td>1</td>\n",
       "      <td>1</td>\n",
       "      <td>1</td>\n",
       "      <td>101,348.88</td>\n",
       "      <td>1</td>\n",
       "    </tr>\n",
       "    <tr>\n",
       "      <th>1</th>\n",
       "      <td>2</td>\n",
       "      <td>15647311</td>\n",
       "      <td>Hill</td>\n",
       "      <td>608</td>\n",
       "      <td>Spain</td>\n",
       "      <td>Female</td>\n",
       "      <td>41</td>\n",
       "      <td>1</td>\n",
       "      <td>83,807.86</td>\n",
       "      <td>1</td>\n",
       "      <td>0</td>\n",
       "      <td>1</td>\n",
       "      <td>112,542.58</td>\n",
       "      <td>0</td>\n",
       "    </tr>\n",
       "    <tr>\n",
       "      <th>2</th>\n",
       "      <td>3</td>\n",
       "      <td>15619304</td>\n",
       "      <td>Onio</td>\n",
       "      <td>502</td>\n",
       "      <td>France</td>\n",
       "      <td>Female</td>\n",
       "      <td>42</td>\n",
       "      <td>8</td>\n",
       "      <td>159,660.8</td>\n",
       "      <td>3</td>\n",
       "      <td>1</td>\n",
       "      <td>0</td>\n",
       "      <td>113,931.57</td>\n",
       "      <td>1</td>\n",
       "    </tr>\n",
       "    <tr>\n",
       "      <th>3</th>\n",
       "      <td>4</td>\n",
       "      <td>15701354</td>\n",
       "      <td>Boni</td>\n",
       "      <td>699</td>\n",
       "      <td>France</td>\n",
       "      <td>Female</td>\n",
       "      <td>39</td>\n",
       "      <td>1</td>\n",
       "      <td>0.0</td>\n",
       "      <td>2</td>\n",
       "      <td>0</td>\n",
       "      <td>0</td>\n",
       "      <td>93,826.63</td>\n",
       "      <td>0</td>\n",
       "    </tr>\n",
       "    <tr>\n",
       "      <th>4</th>\n",
       "      <td>5</td>\n",
       "      <td>15737888</td>\n",
       "      <td>Mitchell</td>\n",
       "      <td>850</td>\n",
       "      <td>Spain</td>\n",
       "      <td>Female</td>\n",
       "      <td>43</td>\n",
       "      <td>2</td>\n",
       "      <td>125,510.82</td>\n",
       "      <td>1</td>\n",
       "      <td>1</td>\n",
       "      <td>1</td>\n",
       "      <td>79,084.1</td>\n",
       "      <td>0</td>\n",
       "    </tr>\n",
       "  </tbody>\n",
       "</table>\n",
       "</div>"
      ],
      "text/plain": [
       "   RowNumber  CustomerId   Surname  CreditScore Geography  Gender  Age  \\\n",
       "0          1    15634602  Hargrave          619    France  Female   42   \n",
       "1          2    15647311      Hill          608     Spain  Female   41   \n",
       "2          3    15619304      Onio          502    France  Female   42   \n",
       "3          4    15701354      Boni          699    France  Female   39   \n",
       "4          5    15737888  Mitchell          850     Spain  Female   43   \n",
       "\n",
       "   Tenure    Balance  NumOfProducts  HasCrCard  IsActiveMember  \\\n",
       "0       2        0.0              1          1               1   \n",
       "1       1  83,807.86              1          0               1   \n",
       "2       8  159,660.8              3          1               0   \n",
       "3       1        0.0              2          0               0   \n",
       "4       2 125,510.82              1          1               1   \n",
       "\n",
       "   EstimatedSalary  Exited  \n",
       "0       101,348.88       1  \n",
       "1       112,542.58       0  \n",
       "2       113,931.57       1  \n",
       "3        93,826.63       0  \n",
       "4         79,084.1       0  "
      ]
     },
     "execution_count": 2,
     "metadata": {},
     "output_type": "execute_result"
    }
   ],
   "source": [
    "df = pd.read_csv(\"C:/Users/ASUS/visual_studio_code/modul_3/ujian_modul_3/bank.csv\")\n",
    "df.head()"
   ]
  },
  {
   "cell_type": "markdown",
   "metadata": {},
   "source": [
    "## Permasalahan yang ingin dipecahkan :\n",
    "- Bagaimana memprediksi apakah seorang nasabah akan menutup akun atau tidak\n",
    "- Profile client seperti apa yang memiliki nilai akun (kolom 'Balance') sebesar-besarnya\n",
    "- Profile client seperti apa yang memiliki nilai credit score (kolom 'CreditScore') sebesar-besarnya"
   ]
  },
  {
   "cell_type": "markdown",
   "metadata": {},
   "source": [
    "## Project Goals:\n",
    "- Pemodelan tipe 'Classification' yang dapat memprediksi apakah seorang nasabah bank akan menutup akun atau tidak dengan nilai precission, recall, dan F1 yang sebesar-besarnya.\n",
    "- Meningkatkan probabilitas nasabah untuk menanamkan uang di dalam Bank sebesar mungkin.\n",
    "- Mengetahui tipe nasabah yang memiliki credit score tinggi "
   ]
  },
  {
   "cell_type": "markdown",
   "metadata": {},
   "source": [
    "## Describe Data"
   ]
  },
  {
   "cell_type": "code",
   "execution_count": 3,
   "metadata": {},
   "outputs": [
    {
     "data": {
      "text/plain": [
       "RowNumber          0\n",
       "CustomerId         0\n",
       "Surname            0\n",
       "CreditScore        0\n",
       "Geography          0\n",
       "Gender             0\n",
       "Age                0\n",
       "Tenure             0\n",
       "Balance            0\n",
       "NumOfProducts      0\n",
       "HasCrCard          0\n",
       "IsActiveMember     0\n",
       "EstimatedSalary    0\n",
       "Exited             0\n",
       "dtype: int64"
      ]
     },
     "execution_count": 3,
     "metadata": {},
     "output_type": "execute_result"
    }
   ],
   "source": [
    "df.isna().sum()"
   ]
  },
  {
   "cell_type": "markdown",
   "metadata": {},
   "source": [
    "## Handling missing data (NaN values)\n",
    "### Dari query df.isna().sum(), tidak ada data yang bernilai Nan atau Null sehingga tidak perlu dilakukan penanggulangan dengan Dropna atau Fillna. Namun, nilai outliers perlu ditelusuri."
   ]
  },
  {
   "cell_type": "code",
   "execution_count": 4,
   "metadata": {},
   "outputs": [
    {
     "name": "stdout",
     "output_type": "stream",
     "text": [
      "<class 'pandas.core.frame.DataFrame'>\n",
      "RangeIndex: 10000 entries, 0 to 9999\n",
      "Data columns (total 14 columns):\n",
      " #   Column           Non-Null Count  Dtype  \n",
      "---  ------           --------------  -----  \n",
      " 0   RowNumber        10000 non-null  int64  \n",
      " 1   CustomerId       10000 non-null  int64  \n",
      " 2   Surname          10000 non-null  object \n",
      " 3   CreditScore      10000 non-null  int64  \n",
      " 4   Geography        10000 non-null  object \n",
      " 5   Gender           10000 non-null  object \n",
      " 6   Age              10000 non-null  int64  \n",
      " 7   Tenure           10000 non-null  int64  \n",
      " 8   Balance          10000 non-null  float64\n",
      " 9   NumOfProducts    10000 non-null  int64  \n",
      " 10  HasCrCard        10000 non-null  int64  \n",
      " 11  IsActiveMember   10000 non-null  int64  \n",
      " 12  EstimatedSalary  10000 non-null  float64\n",
      " 13  Exited           10000 non-null  int64  \n",
      "dtypes: float64(2), int64(9), object(3)\n",
      "memory usage: 1.1+ MB\n"
     ]
    }
   ],
   "source": [
    "df.info()"
   ]
  },
  {
   "cell_type": "code",
   "execution_count": 5,
   "metadata": {},
   "outputs": [
    {
     "data": {
      "text/html": [
       "<div>\n",
       "<style scoped>\n",
       "    .dataframe tbody tr th:only-of-type {\n",
       "        vertical-align: middle;\n",
       "    }\n",
       "\n",
       "    .dataframe tbody tr th {\n",
       "        vertical-align: top;\n",
       "    }\n",
       "\n",
       "    .dataframe thead th {\n",
       "        text-align: right;\n",
       "    }\n",
       "</style>\n",
       "<table border=\"1\" class=\"dataframe\">\n",
       "  <thead>\n",
       "    <tr style=\"text-align: right;\">\n",
       "      <th></th>\n",
       "      <th>RowNumber</th>\n",
       "      <th>CustomerId</th>\n",
       "      <th>CreditScore</th>\n",
       "      <th>Age</th>\n",
       "      <th>Tenure</th>\n",
       "      <th>Balance</th>\n",
       "      <th>NumOfProducts</th>\n",
       "      <th>HasCrCard</th>\n",
       "      <th>IsActiveMember</th>\n",
       "      <th>EstimatedSalary</th>\n",
       "      <th>Exited</th>\n",
       "    </tr>\n",
       "  </thead>\n",
       "  <tbody>\n",
       "    <tr>\n",
       "      <th>count</th>\n",
       "      <td>10,000.0</td>\n",
       "      <td>10,000.0</td>\n",
       "      <td>10,000.0</td>\n",
       "      <td>10,000.0</td>\n",
       "      <td>10,000.0</td>\n",
       "      <td>10,000.0</td>\n",
       "      <td>10,000.0</td>\n",
       "      <td>10,000.0</td>\n",
       "      <td>10,000.0</td>\n",
       "      <td>10,000.0</td>\n",
       "      <td>10,000.0</td>\n",
       "    </tr>\n",
       "    <tr>\n",
       "      <th>mean</th>\n",
       "      <td>5,000.5</td>\n",
       "      <td>15,690,940.5694</td>\n",
       "      <td>650.5288</td>\n",
       "      <td>38.9218</td>\n",
       "      <td>5.0128</td>\n",
       "      <td>76,485.889288</td>\n",
       "      <td>1.5302</td>\n",
       "      <td>0.7055</td>\n",
       "      <td>0.5151</td>\n",
       "      <td>100,090.239881</td>\n",
       "      <td>0.2037</td>\n",
       "    </tr>\n",
       "    <tr>\n",
       "      <th>std</th>\n",
       "      <td>2,886.8956799071675</td>\n",
       "      <td>71,936.1861227489</td>\n",
       "      <td>96.65329873613035</td>\n",
       "      <td>10.487806451704609</td>\n",
       "      <td>2.8921743770496837</td>\n",
       "      <td>62,397.405202385955</td>\n",
       "      <td>0.5816543579989906</td>\n",
       "      <td>0.4558404644751333</td>\n",
       "      <td>0.49979692845891893</td>\n",
       "      <td>57,510.49281769816</td>\n",
       "      <td>0.4027685839948609</td>\n",
       "    </tr>\n",
       "    <tr>\n",
       "      <th>min</th>\n",
       "      <td>1.0</td>\n",
       "      <td>15,565,701.0</td>\n",
       "      <td>350.0</td>\n",
       "      <td>18.0</td>\n",
       "      <td>0.0</td>\n",
       "      <td>0.0</td>\n",
       "      <td>1.0</td>\n",
       "      <td>0.0</td>\n",
       "      <td>0.0</td>\n",
       "      <td>11.58</td>\n",
       "      <td>0.0</td>\n",
       "    </tr>\n",
       "    <tr>\n",
       "      <th>25%</th>\n",
       "      <td>2,500.75</td>\n",
       "      <td>15,628,528.25</td>\n",
       "      <td>584.0</td>\n",
       "      <td>32.0</td>\n",
       "      <td>3.0</td>\n",
       "      <td>0.0</td>\n",
       "      <td>1.0</td>\n",
       "      <td>0.0</td>\n",
       "      <td>0.0</td>\n",
       "      <td>51,002.11</td>\n",
       "      <td>0.0</td>\n",
       "    </tr>\n",
       "    <tr>\n",
       "      <th>50%</th>\n",
       "      <td>5,000.5</td>\n",
       "      <td>15,690,738.0</td>\n",
       "      <td>652.0</td>\n",
       "      <td>37.0</td>\n",
       "      <td>5.0</td>\n",
       "      <td>97,198.54000000001</td>\n",
       "      <td>1.0</td>\n",
       "      <td>1.0</td>\n",
       "      <td>1.0</td>\n",
       "      <td>100,193.915</td>\n",
       "      <td>0.0</td>\n",
       "    </tr>\n",
       "    <tr>\n",
       "      <th>75%</th>\n",
       "      <td>7,500.25</td>\n",
       "      <td>15,753,233.75</td>\n",
       "      <td>718.0</td>\n",
       "      <td>44.0</td>\n",
       "      <td>7.0</td>\n",
       "      <td>127,644.24</td>\n",
       "      <td>2.0</td>\n",
       "      <td>1.0</td>\n",
       "      <td>1.0</td>\n",
       "      <td>149,388.2475</td>\n",
       "      <td>0.0</td>\n",
       "    </tr>\n",
       "    <tr>\n",
       "      <th>max</th>\n",
       "      <td>10,000.0</td>\n",
       "      <td>15,815,690.0</td>\n",
       "      <td>850.0</td>\n",
       "      <td>92.0</td>\n",
       "      <td>10.0</td>\n",
       "      <td>250,898.09</td>\n",
       "      <td>4.0</td>\n",
       "      <td>1.0</td>\n",
       "      <td>1.0</td>\n",
       "      <td>199,992.48</td>\n",
       "      <td>1.0</td>\n",
       "    </tr>\n",
       "  </tbody>\n",
       "</table>\n",
       "</div>"
      ],
      "text/plain": [
       "                RowNumber        CustomerId       CreditScore  \\\n",
       "count            10,000.0          10,000.0          10,000.0   \n",
       "mean              5,000.5   15,690,940.5694          650.5288   \n",
       "std   2,886.8956799071675 71,936.1861227489 96.65329873613035   \n",
       "min                   1.0      15,565,701.0             350.0   \n",
       "25%              2,500.75     15,628,528.25             584.0   \n",
       "50%               5,000.5      15,690,738.0             652.0   \n",
       "75%              7,500.25     15,753,233.75             718.0   \n",
       "max              10,000.0      15,815,690.0             850.0   \n",
       "\n",
       "                     Age             Tenure             Balance  \\\n",
       "count           10,000.0           10,000.0            10,000.0   \n",
       "mean             38.9218             5.0128       76,485.889288   \n",
       "std   10.487806451704609 2.8921743770496837 62,397.405202385955   \n",
       "min                 18.0                0.0                 0.0   \n",
       "25%                 32.0                3.0                 0.0   \n",
       "50%                 37.0                5.0  97,198.54000000001   \n",
       "75%                 44.0                7.0          127,644.24   \n",
       "max                 92.0               10.0          250,898.09   \n",
       "\n",
       "           NumOfProducts          HasCrCard      IsActiveMember  \\\n",
       "count           10,000.0           10,000.0            10,000.0   \n",
       "mean              1.5302             0.7055              0.5151   \n",
       "std   0.5816543579989906 0.4558404644751333 0.49979692845891893   \n",
       "min                  1.0                0.0                 0.0   \n",
       "25%                  1.0                0.0                 0.0   \n",
       "50%                  1.0                1.0                 1.0   \n",
       "75%                  2.0                1.0                 1.0   \n",
       "max                  4.0                1.0                 1.0   \n",
       "\n",
       "         EstimatedSalary             Exited  \n",
       "count           10,000.0           10,000.0  \n",
       "mean      100,090.239881             0.2037  \n",
       "std   57,510.49281769816 0.4027685839948609  \n",
       "min                11.58                0.0  \n",
       "25%            51,002.11                0.0  \n",
       "50%          100,193.915                0.0  \n",
       "75%         149,388.2475                0.0  \n",
       "max           199,992.48                1.0  "
      ]
     },
     "execution_count": 5,
     "metadata": {},
     "output_type": "execute_result"
    }
   ],
   "source": [
    "df.describe()"
   ]
  },
  {
   "cell_type": "markdown",
   "metadata": {},
   "source": [
    "# Data Analysis dengan Crosstab"
   ]
  },
  {
   "cell_type": "code",
   "execution_count": 12,
   "metadata": {},
   "outputs": [
    {
     "data": {
      "text/html": [
       "<div>\n",
       "<style scoped>\n",
       "    .dataframe tbody tr th:only-of-type {\n",
       "        vertical-align: middle;\n",
       "    }\n",
       "\n",
       "    .dataframe tbody tr th {\n",
       "        vertical-align: top;\n",
       "    }\n",
       "\n",
       "    .dataframe thead th {\n",
       "        text-align: right;\n",
       "    }\n",
       "</style>\n",
       "<table border=\"1\" class=\"dataframe\">\n",
       "  <thead>\n",
       "    <tr style=\"text-align: right;\">\n",
       "      <th></th>\n",
       "      <th>RowNumber</th>\n",
       "      <th>CustomerId</th>\n",
       "      <th>Surname</th>\n",
       "      <th>CreditScore</th>\n",
       "      <th>Geography</th>\n",
       "      <th>Gender</th>\n",
       "      <th>Age</th>\n",
       "      <th>Tenure</th>\n",
       "      <th>Balance</th>\n",
       "      <th>NumOfProducts</th>\n",
       "      <th>HasCrCard</th>\n",
       "      <th>IsActiveMember</th>\n",
       "      <th>EstimatedSalary</th>\n",
       "      <th>Exited</th>\n",
       "    </tr>\n",
       "  </thead>\n",
       "  <tbody>\n",
       "    <tr>\n",
       "      <th>0</th>\n",
       "      <td>1</td>\n",
       "      <td>15634602</td>\n",
       "      <td>Hargrave</td>\n",
       "      <td>619</td>\n",
       "      <td>France</td>\n",
       "      <td>Female</td>\n",
       "      <td>42</td>\n",
       "      <td>2</td>\n",
       "      <td>0.0</td>\n",
       "      <td>1</td>\n",
       "      <td>1</td>\n",
       "      <td>1</td>\n",
       "      <td>101,348.88</td>\n",
       "      <td>1</td>\n",
       "    </tr>\n",
       "    <tr>\n",
       "      <th>1</th>\n",
       "      <td>2</td>\n",
       "      <td>15647311</td>\n",
       "      <td>Hill</td>\n",
       "      <td>608</td>\n",
       "      <td>Spain</td>\n",
       "      <td>Female</td>\n",
       "      <td>41</td>\n",
       "      <td>1</td>\n",
       "      <td>83,807.86</td>\n",
       "      <td>1</td>\n",
       "      <td>0</td>\n",
       "      <td>1</td>\n",
       "      <td>112,542.58</td>\n",
       "      <td>0</td>\n",
       "    </tr>\n",
       "    <tr>\n",
       "      <th>2</th>\n",
       "      <td>3</td>\n",
       "      <td>15619304</td>\n",
       "      <td>Onio</td>\n",
       "      <td>502</td>\n",
       "      <td>France</td>\n",
       "      <td>Female</td>\n",
       "      <td>42</td>\n",
       "      <td>8</td>\n",
       "      <td>159,660.8</td>\n",
       "      <td>3</td>\n",
       "      <td>1</td>\n",
       "      <td>0</td>\n",
       "      <td>113,931.57</td>\n",
       "      <td>1</td>\n",
       "    </tr>\n",
       "    <tr>\n",
       "      <th>3</th>\n",
       "      <td>4</td>\n",
       "      <td>15701354</td>\n",
       "      <td>Boni</td>\n",
       "      <td>699</td>\n",
       "      <td>France</td>\n",
       "      <td>Female</td>\n",
       "      <td>39</td>\n",
       "      <td>1</td>\n",
       "      <td>0.0</td>\n",
       "      <td>2</td>\n",
       "      <td>0</td>\n",
       "      <td>0</td>\n",
       "      <td>93,826.63</td>\n",
       "      <td>0</td>\n",
       "    </tr>\n",
       "    <tr>\n",
       "      <th>4</th>\n",
       "      <td>5</td>\n",
       "      <td>15737888</td>\n",
       "      <td>Mitchell</td>\n",
       "      <td>850</td>\n",
       "      <td>Spain</td>\n",
       "      <td>Female</td>\n",
       "      <td>43</td>\n",
       "      <td>2</td>\n",
       "      <td>125,510.82</td>\n",
       "      <td>1</td>\n",
       "      <td>1</td>\n",
       "      <td>1</td>\n",
       "      <td>79,084.1</td>\n",
       "      <td>0</td>\n",
       "    </tr>\n",
       "  </tbody>\n",
       "</table>\n",
       "</div>"
      ],
      "text/plain": [
       "   RowNumber  CustomerId   Surname  CreditScore Geography  Gender  Age  \\\n",
       "0          1    15634602  Hargrave          619    France  Female   42   \n",
       "1          2    15647311      Hill          608     Spain  Female   41   \n",
       "2          3    15619304      Onio          502    France  Female   42   \n",
       "3          4    15701354      Boni          699    France  Female   39   \n",
       "4          5    15737888  Mitchell          850     Spain  Female   43   \n",
       "\n",
       "   Tenure    Balance  NumOfProducts  HasCrCard  IsActiveMember  \\\n",
       "0       2        0.0              1          1               1   \n",
       "1       1  83,807.86              1          0               1   \n",
       "2       8  159,660.8              3          1               0   \n",
       "3       1        0.0              2          0               0   \n",
       "4       2 125,510.82              1          1               1   \n",
       "\n",
       "   EstimatedSalary  Exited  \n",
       "0       101,348.88       1  \n",
       "1       112,542.58       0  \n",
       "2       113,931.57       1  \n",
       "3        93,826.63       0  \n",
       "4         79,084.1       0  "
      ]
     },
     "execution_count": 12,
     "metadata": {},
     "output_type": "execute_result"
    }
   ],
   "source": [
    "df.head()"
   ]
  },
  {
   "cell_type": "code",
   "execution_count": 26,
   "metadata": {},
   "outputs": [
    {
     "data": {
      "text/html": [
       "<div>\n",
       "<style scoped>\n",
       "    .dataframe tbody tr th:only-of-type {\n",
       "        vertical-align: middle;\n",
       "    }\n",
       "\n",
       "    .dataframe tbody tr th {\n",
       "        vertical-align: top;\n",
       "    }\n",
       "\n",
       "    .dataframe thead tr th {\n",
       "        text-align: left;\n",
       "    }\n",
       "\n",
       "    .dataframe thead tr:last-of-type th {\n",
       "        text-align: right;\n",
       "    }\n",
       "</style>\n",
       "<table border=\"1\" class=\"dataframe\">\n",
       "  <thead>\n",
       "    <tr>\n",
       "      <th></th>\n",
       "      <th colspan=\"2\" halign=\"left\">mean</th>\n",
       "      <th colspan=\"2\" halign=\"left\">median</th>\n",
       "      <th colspan=\"2\" halign=\"left\">min</th>\n",
       "      <th colspan=\"2\" halign=\"left\">max</th>\n",
       "    </tr>\n",
       "    <tr>\n",
       "      <th>Gender</th>\n",
       "      <th>Female</th>\n",
       "      <th>Male</th>\n",
       "      <th>Female</th>\n",
       "      <th>Male</th>\n",
       "      <th>Female</th>\n",
       "      <th>Male</th>\n",
       "      <th>Female</th>\n",
       "      <th>Male</th>\n",
       "    </tr>\n",
       "    <tr>\n",
       "      <th>Geography</th>\n",
       "      <th></th>\n",
       "      <th></th>\n",
       "      <th></th>\n",
       "      <th></th>\n",
       "      <th></th>\n",
       "      <th></th>\n",
       "      <th></th>\n",
       "      <th></th>\n",
       "    </tr>\n",
       "  </thead>\n",
       "  <tbody>\n",
       "    <tr>\n",
       "      <th>France</th>\n",
       "      <td>649.19</td>\n",
       "      <td>650.06</td>\n",
       "      <td>652.0</td>\n",
       "      <td>653.0</td>\n",
       "      <td>350</td>\n",
       "      <td>350</td>\n",
       "      <td>850</td>\n",
       "      <td>850</td>\n",
       "    </tr>\n",
       "    <tr>\n",
       "      <th>Germany</th>\n",
       "      <td>653.09</td>\n",
       "      <td>649.97</td>\n",
       "      <td>651.0</td>\n",
       "      <td>650.5</td>\n",
       "      <td>351</td>\n",
       "      <td>350</td>\n",
       "      <td>850</td>\n",
       "      <td>850</td>\n",
       "    </tr>\n",
       "    <tr>\n",
       "      <th>Spain</th>\n",
       "      <td>651.77</td>\n",
       "      <td>650.99</td>\n",
       "      <td>653.0</td>\n",
       "      <td>650.0</td>\n",
       "      <td>358</td>\n",
       "      <td>350</td>\n",
       "      <td>850</td>\n",
       "      <td>850</td>\n",
       "    </tr>\n",
       "  </tbody>\n",
       "</table>\n",
       "</div>"
      ],
      "text/plain": [
       "            mean        median          min         max     \n",
       "Gender    Female   Male Female  Male Female Male Female Male\n",
       "Geography                                                   \n",
       "France    649.19 650.06  652.0 653.0    350  350    850  850\n",
       "Germany   653.09 649.97  651.0 650.5    351  350    850  850\n",
       "Spain     651.77 650.99  653.0 650.0    358  350    850  850"
      ]
     },
     "execution_count": 26,
     "metadata": {},
     "output_type": "execute_result"
    }
   ],
   "source": [
    "(pd.crosstab(index=df.Geography, columns=df.Gender, values=df.CreditScore, aggfunc=['mean', 'median', 'min', 'max'])).round(2)"
   ]
  },
  {
   "cell_type": "markdown",
   "metadata": {},
   "source": [
    "#### Dari hasil crosstab, didapatkan bahwa nasabah wanita (Female) dari Jerman (Germany) memiliki nilai rata-rata (mean) Credit Score yang paling tinggi. Namun, dari nilai median, didapatkan bahwa nasabah wanita dari Spanyol (Spain) dan nasabah pria (Male) dari Perancis (France) sama-sama menduduki nilai tertinggi. Perancis memiliki nasabah dengan Credit Score paling rendah untuk nasabah pria dan wanita, sedangkan nilai Credit Score terendah juga dimiliki oleh nasabah pria dari Jerman dan Spanyol. Untuk nasabah dengan Credit Score tertinggi, ketiga negara memiliki nilai maksimum yang sama untuk kedua gender."
   ]
  },
  {
   "cell_type": "code",
   "execution_count": 27,
   "metadata": {},
   "outputs": [
    {
     "data": {
      "text/html": [
       "<div>\n",
       "<style scoped>\n",
       "    .dataframe tbody tr th:only-of-type {\n",
       "        vertical-align: middle;\n",
       "    }\n",
       "\n",
       "    .dataframe tbody tr th {\n",
       "        vertical-align: top;\n",
       "    }\n",
       "\n",
       "    .dataframe thead tr th {\n",
       "        text-align: left;\n",
       "    }\n",
       "\n",
       "    .dataframe thead tr:last-of-type th {\n",
       "        text-align: right;\n",
       "    }\n",
       "</style>\n",
       "<table border=\"1\" class=\"dataframe\">\n",
       "  <thead>\n",
       "    <tr>\n",
       "      <th></th>\n",
       "      <th colspan=\"2\" halign=\"left\">mean</th>\n",
       "      <th colspan=\"2\" halign=\"left\">median</th>\n",
       "      <th colspan=\"2\" halign=\"left\">min</th>\n",
       "      <th colspan=\"2\" halign=\"left\">max</th>\n",
       "    </tr>\n",
       "    <tr>\n",
       "      <th>Gender</th>\n",
       "      <th>Female</th>\n",
       "      <th>Male</th>\n",
       "      <th>Female</th>\n",
       "      <th>Male</th>\n",
       "      <th>Female</th>\n",
       "      <th>Male</th>\n",
       "      <th>Female</th>\n",
       "      <th>Male</th>\n",
       "    </tr>\n",
       "    <tr>\n",
       "      <th>Geography</th>\n",
       "      <th></th>\n",
       "      <th></th>\n",
       "      <th></th>\n",
       "      <th></th>\n",
       "      <th></th>\n",
       "      <th></th>\n",
       "      <th></th>\n",
       "      <th></th>\n",
       "    </tr>\n",
       "  </thead>\n",
       "  <tbody>\n",
       "    <tr>\n",
       "      <th>France</th>\n",
       "      <td>60,322.67</td>\n",
       "      <td>63,546.28</td>\n",
       "      <td>47,536.4</td>\n",
       "      <td>69,413.44</td>\n",
       "      <td>0.0</td>\n",
       "      <td>0.0</td>\n",
       "      <td>238,387.56</td>\n",
       "      <td>212,692.97</td>\n",
       "    </tr>\n",
       "    <tr>\n",
       "      <th>Germany</th>\n",
       "      <td>119,145.97</td>\n",
       "      <td>120,259.67</td>\n",
       "      <td>118,907.6</td>\n",
       "      <td>120,120.49</td>\n",
       "      <td>32,197.64</td>\n",
       "      <td>27,288.43</td>\n",
       "      <td>206,868.78</td>\n",
       "      <td>214,346.96</td>\n",
       "    </tr>\n",
       "    <tr>\n",
       "      <th>Spain</th>\n",
       "      <td>59,862.09</td>\n",
       "      <td>63,352.83</td>\n",
       "      <td>0.0</td>\n",
       "      <td>69,857.0</td>\n",
       "      <td>0.0</td>\n",
       "      <td>0.0</td>\n",
       "      <td>216,109.88</td>\n",
       "      <td>250,898.09</td>\n",
       "    </tr>\n",
       "  </tbody>\n",
       "</table>\n",
       "</div>"
      ],
      "text/plain": [
       "                mean               median                  min            \\\n",
       "Gender        Female       Male    Female       Male    Female      Male   \n",
       "Geography                                                                  \n",
       "France     60,322.67  63,546.28  47,536.4  69,413.44       0.0       0.0   \n",
       "Germany   119,145.97 120,259.67 118,907.6 120,120.49 32,197.64 27,288.43   \n",
       "Spain      59,862.09  63,352.83       0.0   69,857.0       0.0       0.0   \n",
       "\n",
       "                 max             \n",
       "Gender        Female       Male  \n",
       "Geography                        \n",
       "France    238,387.56 212,692.97  \n",
       "Germany   206,868.78 214,346.96  \n",
       "Spain     216,109.88 250,898.09  "
      ]
     },
     "execution_count": 27,
     "metadata": {},
     "output_type": "execute_result"
    }
   ],
   "source": [
    "(pd.crosstab(index=df.Geography, columns=df.Gender, values=df.Balance, aggfunc=['mean', 'median', 'min', 'max'])).round(2)"
   ]
  },
  {
   "cell_type": "markdown",
   "metadata": {},
   "source": [
    "#### Untuk analisis Crosstab yang menghitung nilai akun per nasabah, nasabah pria dari Jerman memiliki mean isi akun (kolom 'Balance') yang paling tinggi. Nasabah wanita dari Jerman juga memiliki mean Balance yang lebih tinggi daripada nasabah wanita di Perancis dan Spanyol. Dari analisis median, didapatkan bahwa nasabah wanita dari Spanyol bernilai 0 sehingga kebanyakan nasabah wanita dari Spanyol belum menanamkan deposito di Bank walaupun memiliki akun. Alternatif lain adalah nasabah tersebut telah menanamkan deposito tetapi belum mengisi kembali uang ke dalam akun mereka. Dari nilai minimum, ternyata ada nasabah pria dan wanita di Perancis dan Spanyol yang memiliki akun bernilai 0. Dari nilai maximum, nasabah pria dari Spanyol memiliki nilai deposito tertinggi."
   ]
  },
  {
   "cell_type": "code",
   "execution_count": 24,
   "metadata": {},
   "outputs": [
    {
     "data": {
      "text/html": [
       "<div>\n",
       "<style scoped>\n",
       "    .dataframe tbody tr th:only-of-type {\n",
       "        vertical-align: middle;\n",
       "    }\n",
       "\n",
       "    .dataframe tbody tr th {\n",
       "        vertical-align: top;\n",
       "    }\n",
       "\n",
       "    .dataframe thead th {\n",
       "        text-align: right;\n",
       "    }\n",
       "</style>\n",
       "<table border=\"1\" class=\"dataframe\">\n",
       "  <thead>\n",
       "    <tr style=\"text-align: right;\">\n",
       "      <th>Exited</th>\n",
       "      <th>0</th>\n",
       "      <th>1</th>\n",
       "      <th>All</th>\n",
       "    </tr>\n",
       "    <tr>\n",
       "      <th>Gender</th>\n",
       "      <th></th>\n",
       "      <th></th>\n",
       "      <th></th>\n",
       "    </tr>\n",
       "  </thead>\n",
       "  <tbody>\n",
       "    <tr>\n",
       "      <th>Female</th>\n",
       "      <td>3404</td>\n",
       "      <td>1139</td>\n",
       "      <td>4543</td>\n",
       "    </tr>\n",
       "    <tr>\n",
       "      <th>Male</th>\n",
       "      <td>4559</td>\n",
       "      <td>898</td>\n",
       "      <td>5457</td>\n",
       "    </tr>\n",
       "    <tr>\n",
       "      <th>All</th>\n",
       "      <td>7963</td>\n",
       "      <td>2037</td>\n",
       "      <td>10000</td>\n",
       "    </tr>\n",
       "  </tbody>\n",
       "</table>\n",
       "</div>"
      ],
      "text/plain": [
       "Exited     0     1    All\n",
       "Gender                   \n",
       "Female  3404  1139   4543\n",
       "Male    4559   898   5457\n",
       "All     7963  2037  10000"
      ]
     },
     "execution_count": 24,
     "metadata": {},
     "output_type": "execute_result"
    }
   ],
   "source": [
    "pd.crosstab(index=df.Gender, columns=df.Exited, margins=True)"
   ]
  },
  {
   "cell_type": "markdown",
   "metadata": {},
   "source": [
    "#### Dari analisis Crosstab untuk menghitung nasabah yang menutup akun (0: no yang berarti nasabah tetap membuka akun; 1: yes yang berarti nasabah menutup akun), didapatkan bahwa lebih banyak nasabah wanita yang menutup akun dibandingkan nasabah pria. "
   ]
  },
  {
   "cell_type": "code",
   "execution_count": 25,
   "metadata": {},
   "outputs": [
    {
     "data": {
      "text/html": [
       "<div>\n",
       "<style scoped>\n",
       "    .dataframe tbody tr th:only-of-type {\n",
       "        vertical-align: middle;\n",
       "    }\n",
       "\n",
       "    .dataframe tbody tr th {\n",
       "        vertical-align: top;\n",
       "    }\n",
       "\n",
       "    .dataframe thead th {\n",
       "        text-align: right;\n",
       "    }\n",
       "</style>\n",
       "<table border=\"1\" class=\"dataframe\">\n",
       "  <thead>\n",
       "    <tr style=\"text-align: right;\">\n",
       "      <th>Exited</th>\n",
       "      <th>0</th>\n",
       "      <th>1</th>\n",
       "      <th>All</th>\n",
       "    </tr>\n",
       "    <tr>\n",
       "      <th>Geography</th>\n",
       "      <th></th>\n",
       "      <th></th>\n",
       "      <th></th>\n",
       "    </tr>\n",
       "  </thead>\n",
       "  <tbody>\n",
       "    <tr>\n",
       "      <th>France</th>\n",
       "      <td>4204</td>\n",
       "      <td>810</td>\n",
       "      <td>5014</td>\n",
       "    </tr>\n",
       "    <tr>\n",
       "      <th>Germany</th>\n",
       "      <td>1695</td>\n",
       "      <td>814</td>\n",
       "      <td>2509</td>\n",
       "    </tr>\n",
       "    <tr>\n",
       "      <th>Spain</th>\n",
       "      <td>2064</td>\n",
       "      <td>413</td>\n",
       "      <td>2477</td>\n",
       "    </tr>\n",
       "    <tr>\n",
       "      <th>All</th>\n",
       "      <td>7963</td>\n",
       "      <td>2037</td>\n",
       "      <td>10000</td>\n",
       "    </tr>\n",
       "  </tbody>\n",
       "</table>\n",
       "</div>"
      ],
      "text/plain": [
       "Exited        0     1    All\n",
       "Geography                   \n",
       "France     4204   810   5014\n",
       "Germany    1695   814   2509\n",
       "Spain      2064   413   2477\n",
       "All        7963  2037  10000"
      ]
     },
     "execution_count": 25,
     "metadata": {},
     "output_type": "execute_result"
    }
   ],
   "source": [
    "pd.crosstab(index=df.Geography, columns=df.Exited, margins=True)"
   ]
  },
  {
   "cell_type": "markdown",
   "metadata": {},
   "source": [
    "#### Analisis Crosstab yang memprediksi apakah nasabah menutup akun atau tidak menunjukkan bahwa Jerman memiliki nasabah yang paling banyak menutup akun. Spanyol memiliki nasabah yang menutup akun paling sedikit pada 413 nasabah."
   ]
  },
  {
   "cell_type": "markdown",
   "metadata": {},
   "source": [
    "# Data Visualization"
   ]
  },
  {
   "cell_type": "code",
   "execution_count": 51,
   "metadata": {},
   "outputs": [
    {
     "data": {
      "image/png": "[encoded data removed]",
      "text/plain": [
       "<Figure size 432x288 with 1 Axes>"
      ]
     },
     "metadata": {
      "needs_background": "light"
     },
     "output_type": "display_data"
    }
   ],
   "source": [
    "x = df['CreditScore']\n",
    "plt.hist(x, 10, rwidth=0.9)\n",
    "plt.title(\"Histogram Credit Score Nasabah\")\n",
    "plt.xlabel(\"Credit Score Nasabah\")\n",
    "plt.ylabel(\"Jumlah Freq\")\n",
    "plt.show()"
   ]
  },
  {
   "cell_type": "code",
   "execution_count": 69,
   "metadata": {},
   "outputs": [
    {
     "data": {
      "image/png": "[encoded data removed]",
      "text/plain": [
       "<Figure size 432x288 with 1 Axes>"
      ]
     },
     "metadata": {
      "needs_background": "light"
     },
     "output_type": "display_data"
    }
   ],
   "source": [
    "x = df['CreditScore']\n",
    "plt.boxplot(x)\n",
    "plt.title(\"Boxplot Credit Score Nasabah\")\n",
    "plt.ylabel(\"Credit Score Nasabah\")\n",
    "plt.show()"
   ]
  },
  {
   "cell_type": "markdown",
   "metadata": {},
   "source": [
    "#### Dari Histogram Credit Score, didapatkan bahwa persebaran bertipe distribusi normal dengan peak pada credit score dengan rentang 650 - 700. Credit Score merupakan nilai yang diperhitungkan oleh Bank untuk melihat kemampuan nasabah untuk membayar pinjaman. Semakin besar Credit Score, semakin besar kemungkinan nasabah untuk melunaskan pinjamannya, dan sebaliknya. Dari boxplot, didapatkan bahwa nasabah dengan credit score di bawah 400 merupakan Outliers. Hal itu diperkirakan lemahnya kemampuan nasabah untuk melunaskan pinjaman dengan credit score yang rendah sehingga nasabah tersebut lebih cenderung menghindari pembukaan deposito di Bank karena Bank juga memungut biaya pada setiap akun."
   ]
  },
  {
   "cell_type": "code",
   "execution_count": 55,
   "metadata": {},
   "outputs": [
    {
     "data": {
      "image/png": "[encoded data removed]",
      "text/plain": [
       "<Figure size 432x288 with 1 Axes>"
      ]
     },
     "metadata": {
      "needs_background": "light"
     },
     "output_type": "display_data"
    }
   ],
   "source": [
    "x = df['Geography']\n",
    "plt.hist(x, 10, rwidth=0.9)\n",
    "plt.title(\"Histogram Geography Nasabah\")\n",
    "plt.xlabel(\"Geography Nasabah\")\n",
    "plt.ylabel(\"Jumlah Freq\")\n",
    "plt.show()"
   ]
  },
  {
   "cell_type": "markdown",
   "metadata": {},
   "source": [
    "#### Boxplot tidak dapat digunakan untuk data Categorical sehingga tidak ada Boxplot untuk Geography Nasabah"
   ]
  },
  {
   "cell_type": "markdown",
   "metadata": {},
   "source": [
    "#### Dari histogram geography nasabah, didapatkan bahwa Bank cabang Perancis memiliki nasabah terbanyak. "
   ]
  },
  {
   "cell_type": "code",
   "execution_count": 57,
   "metadata": {},
   "outputs": [
    {
     "data": {
      "image/png": "[encoded data removed]",
      "text/plain": [
       "<Figure size 432x288 with 1 Axes>"
      ]
     },
     "metadata": {
      "needs_background": "light"
     },
     "output_type": "display_data"
    }
   ],
   "source": [
    "x = df['Gender']\n",
    "plt.hist(x, 10, rwidth=0.9)\n",
    "plt.title(\"Histogram Gender Nasabah\")\n",
    "plt.xlabel(\"Gender Nasabah\")\n",
    "plt.ylabel(\"Jumlah Freq\")\n",
    "plt.show()"
   ]
  },
  {
   "cell_type": "markdown",
   "metadata": {},
   "source": [
    "#### Boxplot tidak dapat digunakan untuk data Categorical sehingga tidak ada Boxplot untuk Gender Nasabah"
   ]
  },
  {
   "cell_type": "markdown",
   "metadata": {},
   "source": [
    "#### Dari histogram Gender nasabah, jumlah nasabah pria lebih banyak daripada nasabah wanita."
   ]
  },
  {
   "cell_type": "code",
   "execution_count": 59,
   "metadata": {},
   "outputs": [
    {
     "data": {
      "image/png": "[encoded data removed]",
      "text/plain": [
       "<Figure size 432x288 with 1 Axes>"
      ]
     },
     "metadata": {
      "needs_background": "light"
     },
     "output_type": "display_data"
    }
   ],
   "source": [
    "x = df['Age']\n",
    "plt.hist(x, 10, rwidth=0.9)\n",
    "plt.title(\"Histogram Umur Nasabah\")\n",
    "plt.xlabel(\"Umur Nasabah\")\n",
    "plt.ylabel(\"Jumlah Freq\")\n",
    "plt.show()"
   ]
  },
  {
   "cell_type": "code",
   "execution_count": 70,
   "metadata": {},
   "outputs": [
    {
     "data": {
      "image/png": "[encoded data removed]",
      "text/plain": [
       "<Figure size 432x288 with 1 Axes>"
      ]
     },
     "metadata": {
      "needs_background": "light"
     },
     "output_type": "display_data"
    }
   ],
   "source": [
    "x = df['Age']\n",
    "plt.boxplot(x)\n",
    "plt.title(\"Boxplot Umur Nasabah\")\n",
    "plt.ylabel(\"Umur Nasabah\")\n",
    "plt.show()"
   ]
  },
  {
   "cell_type": "markdown",
   "metadata": {},
   "source": [
    "#### Dari histogram umur nasabah, didapatkan bahwa grafik memiliki distribusi normal dengan peak pada nasabah berusia 32 - 40 tahun. Orang pada kelompok usia tersebut cenderung memiliki status pekerjaan dan pendapatan yang lebih stabil sehingga nasabah dengan kelompok usia tersebut lebih cenderung menanamkan deposito di Bank. Untuk kelompok usia 18 - 25 tahun, tidak banyak nasabah karena kelompok usia tersebut kemungkinan besar berstatus murid SMA atau mahasiswa sehingga belum memiliki pendapatan tetap atau stabil. Pada kelompok usia 48 tahun ke atas, jumlah nasabah semakin menurun karena mereka akan pensiun atau sudah pensiun sehingga nasabah pada kelompok usia tersebut cenderung menghindari penanaman deposito karena kurangnya pendapatan mereka. Dari boxplot, didapatkan data outliers pada umur di atas 65 tahun karena kecil jumlah nasabah pada kelompok usia tersebut yang memiliki akun di Bank."
   ]
  },
  {
   "cell_type": "code",
   "execution_count": 61,
   "metadata": {},
   "outputs": [
    {
     "data": {
      "image/png": "[encoded data removed]",
      "text/plain": [
       "<Figure size 432x288 with 1 Axes>"
      ]
     },
     "metadata": {
      "needs_background": "light"
     },
     "output_type": "display_data"
    }
   ],
   "source": [
    "x = df['Tenure']\n",
    "plt.hist(x, 10, rwidth=0.9)\n",
    "plt.title(\"Histogram Tenure Nasabah\")\n",
    "plt.xlabel(\"Tenure Nasabah\")\n",
    "plt.ylabel(\"Jumlah Freq\")\n",
    "plt.show()"
   ]
  },
  {
   "cell_type": "code",
   "execution_count": 71,
   "metadata": {},
   "outputs": [
    {
     "data": {
      "image/png": "[encoded data removed]",
      "text/plain": [
       "<Figure size 432x288 with 1 Axes>"
      ]
     },
     "metadata": {
      "needs_background": "light"
     },
     "output_type": "display_data"
    }
   ],
   "source": [
    "x = df['Tenure']\n",
    "plt.boxplot(x)\n",
    "plt.title(\"Boxplot Tenure Nasabah\")\n",
    "plt.ylabel(\"Tenure Nasabah\")\n",
    "plt.show()"
   ]
  },
  {
   "cell_type": "markdown",
   "metadata": {},
   "source": [
    "#### Dari histogram tenure nasabah, didapatkan bahwa jumlah nasabah terbanyak didapat pada tenure teringgi dan jumlah nasabah terkecil pada tenure bernilai 0 atau 1. Dari kamus Bahasa Inggris, tenure dapat berarti jumlah hutang terhadap Bank atau posisi yang telah diraih, namun sulit diperkirakan jika seorang nasabah dapat memiliki 10 jabatan atau gelar sehingga kemungkinan besar tenure adalah jumlah hutang nasabah terhadap Bank. Dari histogram Credit Score, didapatkan bahwa jumlah nasabah terkecil adalah pada kisaran Credit Score < 400. Semakin besar kemampuan nasabah untuk membayar pinjaman, semakin besar kemungkinan Bank untuk memberikan pinjaman kepada nasabah. Maka, nasabah yang memiliki pinjaman kepada Bank juga lebih banyak menanamkan deposito di Bank. Pada Boxplot tenure, didapatkan median pada tenure = 5, Q3 pada 10 dan Q1 pada 0. Tidak ada data outliers untuk kategori tenure."
   ]
  },
  {
   "cell_type": "code",
   "execution_count": 63,
   "metadata": {},
   "outputs": [
    {
     "data": {
      "image/png": "[encoded data removed]",
      "text/plain": [
       "<Figure size 432x288 with 1 Axes>"
      ]
     },
     "metadata": {
      "needs_background": "light"
     },
     "output_type": "display_data"
    }
   ],
   "source": [
    "x = df['Balance']\n",
    "plt.hist(x, 10, rwidth=0.9)\n",
    "plt.title(\"Histogram Deposito (Balance) Nasabah\")\n",
    "plt.xlabel(\"Deposito (Balance) Nasabah\")\n",
    "plt.ylabel(\"Jumlah Freq\")\n",
    "plt.show()"
   ]
  },
  {
   "cell_type": "code",
   "execution_count": 72,
   "metadata": {},
   "outputs": [
    {
     "data": {
      "image/png": "[encoded data removed]",
      "text/plain": [
       "<Figure size 432x288 with 1 Axes>"
      ]
     },
     "metadata": {
      "needs_background": "light"
     },
     "output_type": "display_data"
    }
   ],
   "source": [
    "x = df['Balance']\n",
    "plt.boxplot(x)\n",
    "plt.title(\"Boxplot Akun (Balance) Nasabah\")\n",
    "plt.ylabel(\"Akun (Balance) Nasabah\")\n",
    "plt.show()"
   ]
  },
  {
   "cell_type": "markdown",
   "metadata": {},
   "source": [
    "#### Histogram balance nasabah menunjukkan bahwa nasabah dengan balance bernilai 0 memiliki jumlah paling banyak. Nilai balance = 0 dapat diartikan nasabah belum menanamkan deposito di Bank atau nasabah telah menanamkan deposito tetapi jumlah uang di akun telah mencapai 0 dan nasabah tersebut belum memasukkan uang ke dalam akun tersebut. Selain itu, didapatkan bahwa jumlah nasabah tersebar secara normal dengan peak pada Balance bernilai 100000 - 125000. Mengingat banyaknya nasabah yang memiliki utang terhadap Bank, dapat dirumuskan bahwa balance = 0 dikarenakan nasabah memiliki akun bernilai 0 dan belum memasukkan uang ke dalam akun tersebut. Dari Boxplot Balance, didapatkan median pada 100000 dan Q3 pada 250000. Grafik tidak memiliki nilai Q1 karena nilai Balance terendah masih memiliki jumlah yang jauh lebih banyak dibandingkan nilai Balance tertinggi (Q1 dan minimum memiliki nilai sama). Tidak ada data outliers yang terdeteksi."
   ]
  },
  {
   "cell_type": "code",
   "execution_count": 65,
   "metadata": {},
   "outputs": [
    {
     "data": {
      "image/png": "[encoded data removed]",
      "text/plain": [
       "<Figure size 432x288 with 1 Axes>"
      ]
     },
     "metadata": {
      "needs_background": "light"
     },
     "output_type": "display_data"
    }
   ],
   "source": [
    "x = df['NumOfProducts']\n",
    "plt.hist(x, 10, rwidth=0.9)\n",
    "plt.title(\"Histogram Jumlah Produk Nasabah\")\n",
    "plt.xlabel(\"Jumlah Produk Nasabah\")\n",
    "plt.ylabel(\"Jumlah Freq\")\n",
    "plt.show()"
   ]
  },
  {
   "cell_type": "code",
   "execution_count": 73,
   "metadata": {},
   "outputs": [
    {
     "data": {
      "image/png": "[encoded data removed]",
      "text/plain": [
       "<Figure size 432x288 with 1 Axes>"
      ]
     },
     "metadata": {
      "needs_background": "light"
     },
     "output_type": "display_data"
    }
   ],
   "source": [
    "x = df['NumOfProducts']\n",
    "plt.boxplot(x)\n",
    "plt.title(\"Boxplot Jumlah Produk Nasabah\")\n",
    "plt.ylabel(\"Jumlah Produk Nasabah\")\n",
    "plt.show()"
   ]
  },
  {
   "cell_type": "markdown",
   "metadata": {},
   "source": [
    "#### Kolom 'NumOfProducts' kemungkinan besar mengacu kepada jumlah akun yang dimiliki oleh nasabah. Nasabah dengan jumlah akun 1 dan 2 memiliki jumlah yang jauh lebih banyak daripada akun berjumlah 3 dan 4. Hal tersebut disebabkan oleh biaya yang dibebankan oleh Bank untuk setiap akun yang dimiliki sehingga nasabah tidak mempunyai insentif untuk memiliki akun dengan jumlah di atas 2. Dari Boxplot yang dihasilkan, nilai median, minimum, dan Q1 ada di nilai 1. Nilai maksimum ada pada 2 dan Q3 pada nilai 3. Data outliers dideteksi pada nilai 4. "
   ]
  },
  {
   "cell_type": "code",
   "execution_count": 67,
   "metadata": {},
   "outputs": [
    {
     "data": {
      "image/png": "[encoded data removed]",
      "text/plain": [
       "<Figure size 432x288 with 1 Axes>"
      ]
     },
     "metadata": {
      "needs_background": "light"
     },
     "output_type": "display_data"
    }
   ],
   "source": [
    "x = df['HasCrCard']\n",
    "plt.hist(x, 10, rwidth=0.9)\n",
    "plt.title(\"Histogram Kartu Kredit Nasabah\")\n",
    "plt.xlabel(\"Status Kartu Kredit Nasabah\")\n",
    "plt.ylabel(\"Jumlah Freq\")\n",
    "plt.show()"
   ]
  },
  {
   "cell_type": "code",
   "execution_count": 74,
   "metadata": {},
   "outputs": [
    {
     "data": {
      "image/png": "[encoded data removed]",
      "text/plain": [
       "<Figure size 432x288 with 1 Axes>"
      ]
     },
     "metadata": {
      "needs_background": "light"
     },
     "output_type": "display_data"
    }
   ],
   "source": [
    "x = df['HasCrCard']\n",
    "plt.boxplot(x)\n",
    "plt.title(\"Boxplot Status Kartu Kredit Nasabah\")\n",
    "plt.ylabel(\"Status Kartu Kredit Nasabah\")\n",
    "plt.show()"
   ]
  },
  {
   "cell_type": "markdown",
   "metadata": {},
   "source": [
    "#### Dari histogram kartu kredit ditemukan bahwa lebih banyak nasabah bernilai 1 (mempunyai kartu kredit) dibandingkan yang bernilai 0 (tidak mempunyai kartu kredit). Kartu kredit berfungsi untuk mempermudah transaksi pembayaran dalam kehidupan sehari-hari dan persyaratannya adalah nasabah harus menanamkan uang di Bank terlebih dahulu. Nasabah yang tidak mempunyai kartu kredit kemungkinan disebabkan nasabah tersebut belum memerlukan kartu kredit (insentif kurang) karena beberapa faktor tertentu, seperti persyaratan yang sulit, transaksi sehari-hari dengan cash, dll. Dari Boxplot kartu kredit, nilai median terletak pada 1 karena lebih banyak nasabah yang memiliki kartu kredit daripada yang tidak punya. Nilai minimum dan Q1 ada pada nilai 0 sedangkan maximum dan Q3 ada pada nilai 1. Tidak ada data outliers."
   ]
  },
  {
   "cell_type": "code",
   "execution_count": 42,
   "metadata": {},
   "outputs": [
    {
     "data": {
      "image/png": "[encoded data removed]",
      "text/plain": [
       "<Figure size 432x288 with 1 Axes>"
      ]
     },
     "metadata": {
      "needs_background": "light"
     },
     "output_type": "display_data"
    }
   ],
   "source": [
    "x = df['IsActiveMember']\n",
    "plt.hist(x, 10, rwidth=0.9)\n",
    "plt.title(\"Histogram Status Active Member Nasabah\")\n",
    "plt.xlabel(\"Status Active Member Nasabah\")\n",
    "plt.ylabel(\"Jumlah Freq\")\n",
    "plt.show()"
   ]
  },
  {
   "cell_type": "code",
   "execution_count": 75,
   "metadata": {},
   "outputs": [
    {
     "data": {
      "image/png": "[encoded data removed]",
      "text/plain": [
       "<Figure size 432x288 with 1 Axes>"
      ]
     },
     "metadata": {
      "needs_background": "light"
     },
     "output_type": "display_data"
    }
   ],
   "source": [
    "x = df['IsActiveMember']\n",
    "plt.boxplot(x)\n",
    "plt.title(\"Boxplot Status Active Member Nasabah\")\n",
    "plt.ylabel(\"Status Active Member Nasabah\")\n",
    "plt.show()"
   ]
  },
  {
   "cell_type": "markdown",
   "metadata": {},
   "source": [
    "#### Dari histogram Active Member, didapatkan bahwa jumlah nasabah pada nilai 0 (bukan active member) dan 1 (active member) hampir sama dengan nilai 1 memiliki jumlah yang lebih banyak. Kemungkinan status active member diberikan kepada nasabah yang banyak melakukan transaksi yang melibatkan Bank untuk periode waktu tertentu (secara bulanan, kuartal, semester, dll). Nasabah yang bukan active member bukanlah nasabah yang tidak melakukan transaksi sama sekali, tetapi jeda transaksi terpisah jauh atau jumlah transaksi di periode waktu yang ditentukan tidak memenuhi persyaratan active member, dll. Dari Boxplot active member, didapatkan nilai median terletak pada 1 karena jumlah nasabah lebih banyak sebagai active member. Nilai minimum dan Q1 pada 0 sedangkan maximum dan Q3 pada 1. Tidak ada data outliers."
   ]
  },
  {
   "cell_type": "code",
   "execution_count": 47,
   "metadata": {},
   "outputs": [
    {
     "data": {
      "image/png": "[encoded data removed]",
      "text/plain": [
       "<Figure size 432x288 with 1 Axes>"
      ]
     },
     "metadata": {
      "needs_background": "light"
     },
     "output_type": "display_data"
    }
   ],
   "source": [
    "x = df['EstimatedSalary']\n",
    "plt.hist(x, 10, rwidth=0.8)\n",
    "plt.title(\"Histogram Perkiraan Pendapatan Nasabah\")\n",
    "plt.xlabel(\"Perkiraan Pendapatan Nasabah\")\n",
    "plt.ylabel(\"Jumlah Freq\")\n",
    "plt.show()"
   ]
  },
  {
   "cell_type": "code",
   "execution_count": 76,
   "metadata": {},
   "outputs": [
    {
     "data": {
      "image/png": "[encoded data removed]",
      "text/plain": [
       "<Figure size 432x288 with 1 Axes>"
      ]
     },
     "metadata": {
      "needs_background": "light"
     },
     "output_type": "display_data"
    }
   ],
   "source": [
    "x = df['EstimatedSalary']\n",
    "plt.boxplot(x)\n",
    "plt.title(\"Boxplot Perkiraan Pendapatan Nasabah\")\n",
    "plt.ylabel(\"Perkiraan Pendapatan Nasabah\")\n",
    "plt.show()"
   ]
  },
  {
   "cell_type": "markdown",
   "metadata": {},
   "source": [
    "#### Dari histogram pendapatan nasabah, persebarannya hampir merata untuk semua kelompok pendapatan nasabah. Berarti, ada nasabah yang meskipun belum memiliki pendapatan tetapi memiliki akun di Bank, kemungkinan sebagai anak yang bebannya ditanggung oleh orangtua atau wali (atau nasabah lansia yang bebannya ditanggung kerabat yang lebih muda). Dari Boxplot pendapatan nasabah, nilai median terdapat pada nilai 100000, minimum pada 50000, dan maximum pada 150000. Nilai Q1 dan Q3 terletak pada 0 dan 200000. Tidak ada data outliers."
   ]
  },
  {
   "cell_type": "code",
   "execution_count": 48,
   "metadata": {},
   "outputs": [
    {
     "data": {
      "image/png": "[encoded data removed]",
      "text/plain": [
       "<Figure size 432x288 with 1 Axes>"
      ]
     },
     "metadata": {
      "needs_background": "light"
     },
     "output_type": "display_data"
    }
   ],
   "source": [
    "x = df['Exited']\n",
    "plt.hist(x, 10, rwidth=0.8)\n",
    "plt.title(\"Histogram Status Akun Nasabah\")\n",
    "plt.xlabel(\"Status Akun Nasabah\")\n",
    "plt.ylabel(\"Jumlah Freq\")\n",
    "plt.show()"
   ]
  },
  {
   "cell_type": "code",
   "execution_count": 77,
   "metadata": {},
   "outputs": [
    {
     "data": {
      "image/png": "[encoded data removed]",
      "text/plain": [
       "<Figure size 432x288 with 1 Axes>"
      ]
     },
     "metadata": {
      "needs_background": "light"
     },
     "output_type": "display_data"
    }
   ],
   "source": [
    "x = df['Exited']\n",
    "plt.boxplot(x)\n",
    "plt.title(\"Boxplot Status Akun Nasabah\")\n",
    "plt.ylabel(\"Status Akun Nasabah\")\n",
    "plt.show()"
   ]
  },
  {
   "cell_type": "markdown",
   "metadata": {},
   "source": [
    "#### Dari histogram exited, didapatkan bahwa nasabah yang bernilai 0 (tidak menutup akun) memiliki jumlah yang lebih banyak daripada nasabah bernilai 1 (menutup akun). Rasio perbandingan mendekati 4 : 1. Maka insentif nasabah untuk tetap memiliki akun di Bank lebih besar dari insentif nasabah untuk menutup akun. Dari Boxplot exited, tidak terlihat bentuk kotak karena sebagian besar data exited bernilai 0 sehingga nilai minimum, median, maximum, Q1, dan Q3 terletak pada nilai 0. Nilai 1 dideteksi sebagai data outliers karena jumlahnya yang lebih sedikit."
   ]
  },
  {
   "cell_type": "markdown",
   "metadata": {},
   "source": [
    "# Data Preprocessing"
   ]
  },
  {
   "cell_type": "code",
   "execution_count": 78,
   "metadata": {},
   "outputs": [
    {
     "data": {
      "text/html": [
       "<div>\n",
       "<style scoped>\n",
       "    .dataframe tbody tr th:only-of-type {\n",
       "        vertical-align: middle;\n",
       "    }\n",
       "\n",
       "    .dataframe tbody tr th {\n",
       "        vertical-align: top;\n",
       "    }\n",
       "\n",
       "    .dataframe thead th {\n",
       "        text-align: right;\n",
       "    }\n",
       "</style>\n",
       "<table border=\"1\" class=\"dataframe\">\n",
       "  <thead>\n",
       "    <tr style=\"text-align: right;\">\n",
       "      <th></th>\n",
       "      <th>RowNumber</th>\n",
       "      <th>CustomerId</th>\n",
       "      <th>Surname</th>\n",
       "      <th>CreditScore</th>\n",
       "      <th>Geography</th>\n",
       "      <th>Gender</th>\n",
       "      <th>Age</th>\n",
       "      <th>Tenure</th>\n",
       "      <th>Balance</th>\n",
       "      <th>NumOfProducts</th>\n",
       "      <th>HasCrCard</th>\n",
       "      <th>IsActiveMember</th>\n",
       "      <th>EstimatedSalary</th>\n",
       "      <th>Exited</th>\n",
       "    </tr>\n",
       "  </thead>\n",
       "  <tbody>\n",
       "    <tr>\n",
       "      <th>0</th>\n",
       "      <td>1</td>\n",
       "      <td>15634602</td>\n",
       "      <td>Hargrave</td>\n",
       "      <td>619</td>\n",
       "      <td>France</td>\n",
       "      <td>Female</td>\n",
       "      <td>42</td>\n",
       "      <td>2</td>\n",
       "      <td>0.0</td>\n",
       "      <td>1</td>\n",
       "      <td>1</td>\n",
       "      <td>1</td>\n",
       "      <td>101,348.88</td>\n",
       "      <td>1</td>\n",
       "    </tr>\n",
       "    <tr>\n",
       "      <th>1</th>\n",
       "      <td>2</td>\n",
       "      <td>15647311</td>\n",
       "      <td>Hill</td>\n",
       "      <td>608</td>\n",
       "      <td>Spain</td>\n",
       "      <td>Female</td>\n",
       "      <td>41</td>\n",
       "      <td>1</td>\n",
       "      <td>83,807.86</td>\n",
       "      <td>1</td>\n",
       "      <td>0</td>\n",
       "      <td>1</td>\n",
       "      <td>112,542.58</td>\n",
       "      <td>0</td>\n",
       "    </tr>\n",
       "    <tr>\n",
       "      <th>2</th>\n",
       "      <td>3</td>\n",
       "      <td>15619304</td>\n",
       "      <td>Onio</td>\n",
       "      <td>502</td>\n",
       "      <td>France</td>\n",
       "      <td>Female</td>\n",
       "      <td>42</td>\n",
       "      <td>8</td>\n",
       "      <td>159,660.8</td>\n",
       "      <td>3</td>\n",
       "      <td>1</td>\n",
       "      <td>0</td>\n",
       "      <td>113,931.57</td>\n",
       "      <td>1</td>\n",
       "    </tr>\n",
       "    <tr>\n",
       "      <th>3</th>\n",
       "      <td>4</td>\n",
       "      <td>15701354</td>\n",
       "      <td>Boni</td>\n",
       "      <td>699</td>\n",
       "      <td>France</td>\n",
       "      <td>Female</td>\n",
       "      <td>39</td>\n",
       "      <td>1</td>\n",
       "      <td>0.0</td>\n",
       "      <td>2</td>\n",
       "      <td>0</td>\n",
       "      <td>0</td>\n",
       "      <td>93,826.63</td>\n",
       "      <td>0</td>\n",
       "    </tr>\n",
       "    <tr>\n",
       "      <th>4</th>\n",
       "      <td>5</td>\n",
       "      <td>15737888</td>\n",
       "      <td>Mitchell</td>\n",
       "      <td>850</td>\n",
       "      <td>Spain</td>\n",
       "      <td>Female</td>\n",
       "      <td>43</td>\n",
       "      <td>2</td>\n",
       "      <td>125,510.82</td>\n",
       "      <td>1</td>\n",
       "      <td>1</td>\n",
       "      <td>1</td>\n",
       "      <td>79,084.1</td>\n",
       "      <td>0</td>\n",
       "    </tr>\n",
       "  </tbody>\n",
       "</table>\n",
       "</div>"
      ],
      "text/plain": [
       "   RowNumber  CustomerId   Surname  CreditScore Geography  Gender  Age  \\\n",
       "0          1    15634602  Hargrave          619    France  Female   42   \n",
       "1          2    15647311      Hill          608     Spain  Female   41   \n",
       "2          3    15619304      Onio          502    France  Female   42   \n",
       "3          4    15701354      Boni          699    France  Female   39   \n",
       "4          5    15737888  Mitchell          850     Spain  Female   43   \n",
       "\n",
       "   Tenure    Balance  NumOfProducts  HasCrCard  IsActiveMember  \\\n",
       "0       2        0.0              1          1               1   \n",
       "1       1  83,807.86              1          0               1   \n",
       "2       8  159,660.8              3          1               0   \n",
       "3       1        0.0              2          0               0   \n",
       "4       2 125,510.82              1          1               1   \n",
       "\n",
       "   EstimatedSalary  Exited  \n",
       "0       101,348.88       1  \n",
       "1       112,542.58       0  \n",
       "2       113,931.57       1  \n",
       "3        93,826.63       0  \n",
       "4         79,084.1       0  "
      ]
     },
     "execution_count": 78,
     "metadata": {},
     "output_type": "execute_result"
    }
   ],
   "source": [
    "df.head()"
   ]
  },
  {
   "cell_type": "code",
   "execution_count": 79,
   "metadata": {},
   "outputs": [
    {
     "data": {
      "text/html": [
       "<div>\n",
       "<style scoped>\n",
       "    .dataframe tbody tr th:only-of-type {\n",
       "        vertical-align: middle;\n",
       "    }\n",
       "\n",
       "    .dataframe tbody tr th {\n",
       "        vertical-align: top;\n",
       "    }\n",
       "\n",
       "    .dataframe thead th {\n",
       "        text-align: right;\n",
       "    }\n",
       "</style>\n",
       "<table border=\"1\" class=\"dataframe\">\n",
       "  <thead>\n",
       "    <tr style=\"text-align: right;\">\n",
       "      <th></th>\n",
       "      <th>CreditScore</th>\n",
       "      <th>Geography</th>\n",
       "      <th>Gender</th>\n",
       "      <th>Age</th>\n",
       "      <th>Tenure</th>\n",
       "      <th>Balance</th>\n",
       "      <th>NumOfProducts</th>\n",
       "      <th>HasCrCard</th>\n",
       "      <th>IsActiveMember</th>\n",
       "      <th>EstimatedSalary</th>\n",
       "      <th>Exited</th>\n",
       "    </tr>\n",
       "  </thead>\n",
       "  <tbody>\n",
       "    <tr>\n",
       "      <th>0</th>\n",
       "      <td>619</td>\n",
       "      <td>France</td>\n",
       "      <td>Female</td>\n",
       "      <td>42</td>\n",
       "      <td>2</td>\n",
       "      <td>0.0</td>\n",
       "      <td>1</td>\n",
       "      <td>1</td>\n",
       "      <td>1</td>\n",
       "      <td>101,348.88</td>\n",
       "      <td>1</td>\n",
       "    </tr>\n",
       "    <tr>\n",
       "      <th>1</th>\n",
       "      <td>608</td>\n",
       "      <td>Spain</td>\n",
       "      <td>Female</td>\n",
       "      <td>41</td>\n",
       "      <td>1</td>\n",
       "      <td>83,807.86</td>\n",
       "      <td>1</td>\n",
       "      <td>0</td>\n",
       "      <td>1</td>\n",
       "      <td>112,542.58</td>\n",
       "      <td>0</td>\n",
       "    </tr>\n",
       "    <tr>\n",
       "      <th>2</th>\n",
       "      <td>502</td>\n",
       "      <td>France</td>\n",
       "      <td>Female</td>\n",
       "      <td>42</td>\n",
       "      <td>8</td>\n",
       "      <td>159,660.8</td>\n",
       "      <td>3</td>\n",
       "      <td>1</td>\n",
       "      <td>0</td>\n",
       "      <td>113,931.57</td>\n",
       "      <td>1</td>\n",
       "    </tr>\n",
       "    <tr>\n",
       "      <th>3</th>\n",
       "      <td>699</td>\n",
       "      <td>France</td>\n",
       "      <td>Female</td>\n",
       "      <td>39</td>\n",
       "      <td>1</td>\n",
       "      <td>0.0</td>\n",
       "      <td>2</td>\n",
       "      <td>0</td>\n",
       "      <td>0</td>\n",
       "      <td>93,826.63</td>\n",
       "      <td>0</td>\n",
       "    </tr>\n",
       "    <tr>\n",
       "      <th>4</th>\n",
       "      <td>850</td>\n",
       "      <td>Spain</td>\n",
       "      <td>Female</td>\n",
       "      <td>43</td>\n",
       "      <td>2</td>\n",
       "      <td>125,510.82</td>\n",
       "      <td>1</td>\n",
       "      <td>1</td>\n",
       "      <td>1</td>\n",
       "      <td>79,084.1</td>\n",
       "      <td>0</td>\n",
       "    </tr>\n",
       "  </tbody>\n",
       "</table>\n",
       "</div>"
      ],
      "text/plain": [
       "   CreditScore Geography  Gender  Age  Tenure    Balance  NumOfProducts  \\\n",
       "0          619    France  Female   42       2        0.0              1   \n",
       "1          608     Spain  Female   41       1  83,807.86              1   \n",
       "2          502    France  Female   42       8  159,660.8              3   \n",
       "3          699    France  Female   39       1        0.0              2   \n",
       "4          850     Spain  Female   43       2 125,510.82              1   \n",
       "\n",
       "   HasCrCard  IsActiveMember  EstimatedSalary  Exited  \n",
       "0          1               1       101,348.88       1  \n",
       "1          0               1       112,542.58       0  \n",
       "2          1               0       113,931.57       1  \n",
       "3          0               0        93,826.63       0  \n",
       "4          1               1         79,084.1       0  "
      ]
     },
     "execution_count": 79,
     "metadata": {},
     "output_type": "execute_result"
    }
   ],
   "source": [
    "df_preprocess = df.drop(columns=['RowNumber', 'CustomerId', 'Surname'])\n",
    "df_preprocess.head()"
   ]
  },
  {
   "cell_type": "code",
   "execution_count": 83,
   "metadata": {},
   "outputs": [],
   "source": [
    "df_preprocess = pd.get_dummies(data=df_preprocess, columns=['Geography', 'Gender'])"
   ]
  },
  {
   "cell_type": "code",
   "execution_count": 84,
   "metadata": {},
   "outputs": [
    {
     "data": {
      "text/html": [
       "<div>\n",
       "<style scoped>\n",
       "    .dataframe tbody tr th:only-of-type {\n",
       "        vertical-align: middle;\n",
       "    }\n",
       "\n",
       "    .dataframe tbody tr th {\n",
       "        vertical-align: top;\n",
       "    }\n",
       "\n",
       "    .dataframe thead th {\n",
       "        text-align: right;\n",
       "    }\n",
       "</style>\n",
       "<table border=\"1\" class=\"dataframe\">\n",
       "  <thead>\n",
       "    <tr style=\"text-align: right;\">\n",
       "      <th></th>\n",
       "      <th>CreditScore</th>\n",
       "      <th>Age</th>\n",
       "      <th>Tenure</th>\n",
       "      <th>Balance</th>\n",
       "      <th>NumOfProducts</th>\n",
       "      <th>HasCrCard</th>\n",
       "      <th>IsActiveMember</th>\n",
       "      <th>EstimatedSalary</th>\n",
       "      <th>Exited</th>\n",
       "      <th>Geography_France</th>\n",
       "      <th>Geography_Germany</th>\n",
       "      <th>Geography_Spain</th>\n",
       "      <th>Gender_Female</th>\n",
       "      <th>Gender_Male</th>\n",
       "    </tr>\n",
       "  </thead>\n",
       "  <tbody>\n",
       "    <tr>\n",
       "      <th>0</th>\n",
       "      <td>619</td>\n",
       "      <td>42</td>\n",
       "      <td>2</td>\n",
       "      <td>0.0</td>\n",
       "      <td>1</td>\n",
       "      <td>1</td>\n",
       "      <td>1</td>\n",
       "      <td>101,348.88</td>\n",
       "      <td>1</td>\n",
       "      <td>1</td>\n",
       "      <td>0</td>\n",
       "      <td>0</td>\n",
       "      <td>1</td>\n",
       "      <td>0</td>\n",
       "    </tr>\n",
       "    <tr>\n",
       "      <th>1</th>\n",
       "      <td>608</td>\n",
       "      <td>41</td>\n",
       "      <td>1</td>\n",
       "      <td>83,807.86</td>\n",
       "      <td>1</td>\n",
       "      <td>0</td>\n",
       "      <td>1</td>\n",
       "      <td>112,542.58</td>\n",
       "      <td>0</td>\n",
       "      <td>0</td>\n",
       "      <td>0</td>\n",
       "      <td>1</td>\n",
       "      <td>1</td>\n",
       "      <td>0</td>\n",
       "    </tr>\n",
       "    <tr>\n",
       "      <th>2</th>\n",
       "      <td>502</td>\n",
       "      <td>42</td>\n",
       "      <td>8</td>\n",
       "      <td>159,660.8</td>\n",
       "      <td>3</td>\n",
       "      <td>1</td>\n",
       "      <td>0</td>\n",
       "      <td>113,931.57</td>\n",
       "      <td>1</td>\n",
       "      <td>1</td>\n",
       "      <td>0</td>\n",
       "      <td>0</td>\n",
       "      <td>1</td>\n",
       "      <td>0</td>\n",
       "    </tr>\n",
       "    <tr>\n",
       "      <th>3</th>\n",
       "      <td>699</td>\n",
       "      <td>39</td>\n",
       "      <td>1</td>\n",
       "      <td>0.0</td>\n",
       "      <td>2</td>\n",
       "      <td>0</td>\n",
       "      <td>0</td>\n",
       "      <td>93,826.63</td>\n",
       "      <td>0</td>\n",
       "      <td>1</td>\n",
       "      <td>0</td>\n",
       "      <td>0</td>\n",
       "      <td>1</td>\n",
       "      <td>0</td>\n",
       "    </tr>\n",
       "    <tr>\n",
       "      <th>4</th>\n",
       "      <td>850</td>\n",
       "      <td>43</td>\n",
       "      <td>2</td>\n",
       "      <td>125,510.82</td>\n",
       "      <td>1</td>\n",
       "      <td>1</td>\n",
       "      <td>1</td>\n",
       "      <td>79,084.1</td>\n",
       "      <td>0</td>\n",
       "      <td>0</td>\n",
       "      <td>0</td>\n",
       "      <td>1</td>\n",
       "      <td>1</td>\n",
       "      <td>0</td>\n",
       "    </tr>\n",
       "  </tbody>\n",
       "</table>\n",
       "</div>"
      ],
      "text/plain": [
       "   CreditScore  Age  Tenure    Balance  NumOfProducts  HasCrCard  \\\n",
       "0          619   42       2        0.0              1          1   \n",
       "1          608   41       1  83,807.86              1          0   \n",
       "2          502   42       8  159,660.8              3          1   \n",
       "3          699   39       1        0.0              2          0   \n",
       "4          850   43       2 125,510.82              1          1   \n",
       "\n",
       "   IsActiveMember  EstimatedSalary  Exited  Geography_France  \\\n",
       "0               1       101,348.88       1                 1   \n",
       "1               1       112,542.58       0                 0   \n",
       "2               0       113,931.57       1                 1   \n",
       "3               0        93,826.63       0                 1   \n",
       "4               1         79,084.1       0                 0   \n",
       "\n",
       "   Geography_Germany  Geography_Spain  Gender_Female  Gender_Male  \n",
       "0                  0                0              1            0  \n",
       "1                  0                1              1            0  \n",
       "2                  0                0              1            0  \n",
       "3                  0                0              1            0  \n",
       "4                  0                1              1            0  "
      ]
     },
     "execution_count": 84,
     "metadata": {},
     "output_type": "execute_result"
    }
   ],
   "source": [
    "df_preprocess.head()"
   ]
  },
  {
   "cell_type": "markdown",
   "metadata": {},
   "source": [
    "# Feature Engineering atau Feature Selection"
   ]
  },
  {
   "cell_type": "code",
   "execution_count": 85,
   "metadata": {},
   "outputs": [
    {
     "data": {
      "text/plain": [
       "CreditScore         -0.027093539754658398\n",
       "Age                    0.2853230378350968\n",
       "Tenure              -0.014000612253444792\n",
       "Balance               0.11853276877163839\n",
       "NumOfProducts        -0.04781986494944309\n",
       "HasCrCard           -0.007137765603039506\n",
       "IsActiveMember       -0.15612827818891764\n",
       "EstimatedSalary      0.012096861026845011\n",
       "Exited                                1.0\n",
       "Geography_France     -0.10495515555436995\n",
       "Geography_Germany     0.17348787015296901\n",
       "Geography_Spain      -0.05266676206212569\n",
       "Gender_Female         0.10651248767347121\n",
       "Gender_Male          -0.10651248767347121\n",
       "Name: Exited, dtype: float64"
      ]
     },
     "execution_count": 85,
     "metadata": {},
     "output_type": "execute_result"
    }
   ],
   "source": [
    "df_preprocess.corr()['Exited']"
   ]
  },
  {
   "cell_type": "markdown",
   "metadata": {},
   "source": [
    "### Feature dengan nilai korelasi di bawah nilai yang ditentukan akan didrop. Nilai threshold korelasi adalah |corr| >= 0.1. Maka, feature/kolom yang akan digunakan untuk pemodelan dengan Machine Learning adalah 'Age', 'Balance', 'IsActiveMember', 'Geography', dan 'Gender'."
   ]
  },
  {
   "cell_type": "code",
   "execution_count": 86,
   "metadata": {},
   "outputs": [
    {
     "data": {
      "text/html": [
       "<div>\n",
       "<style scoped>\n",
       "    .dataframe tbody tr th:only-of-type {\n",
       "        vertical-align: middle;\n",
       "    }\n",
       "\n",
       "    .dataframe tbody tr th {\n",
       "        vertical-align: top;\n",
       "    }\n",
       "\n",
       "    .dataframe thead th {\n",
       "        text-align: right;\n",
       "    }\n",
       "</style>\n",
       "<table border=\"1\" class=\"dataframe\">\n",
       "  <thead>\n",
       "    <tr style=\"text-align: right;\">\n",
       "      <th></th>\n",
       "      <th>CreditScore</th>\n",
       "      <th>Age</th>\n",
       "      <th>Tenure</th>\n",
       "      <th>Balance</th>\n",
       "      <th>NumOfProducts</th>\n",
       "      <th>HasCrCard</th>\n",
       "      <th>IsActiveMember</th>\n",
       "      <th>EstimatedSalary</th>\n",
       "      <th>Exited</th>\n",
       "      <th>Geography_France</th>\n",
       "      <th>Geography_Germany</th>\n",
       "      <th>Geography_Spain</th>\n",
       "      <th>Gender_Female</th>\n",
       "      <th>Gender_Male</th>\n",
       "    </tr>\n",
       "  </thead>\n",
       "  <tbody>\n",
       "    <tr>\n",
       "      <th>0</th>\n",
       "      <td>619</td>\n",
       "      <td>42</td>\n",
       "      <td>2</td>\n",
       "      <td>0.0</td>\n",
       "      <td>1</td>\n",
       "      <td>1</td>\n",
       "      <td>1</td>\n",
       "      <td>101,348.88</td>\n",
       "      <td>1</td>\n",
       "      <td>1</td>\n",
       "      <td>0</td>\n",
       "      <td>0</td>\n",
       "      <td>1</td>\n",
       "      <td>0</td>\n",
       "    </tr>\n",
       "    <tr>\n",
       "      <th>1</th>\n",
       "      <td>608</td>\n",
       "      <td>41</td>\n",
       "      <td>1</td>\n",
       "      <td>83,807.86</td>\n",
       "      <td>1</td>\n",
       "      <td>0</td>\n",
       "      <td>1</td>\n",
       "      <td>112,542.58</td>\n",
       "      <td>0</td>\n",
       "      <td>0</td>\n",
       "      <td>0</td>\n",
       "      <td>1</td>\n",
       "      <td>1</td>\n",
       "      <td>0</td>\n",
       "    </tr>\n",
       "    <tr>\n",
       "      <th>2</th>\n",
       "      <td>502</td>\n",
       "      <td>42</td>\n",
       "      <td>8</td>\n",
       "      <td>159,660.8</td>\n",
       "      <td>3</td>\n",
       "      <td>1</td>\n",
       "      <td>0</td>\n",
       "      <td>113,931.57</td>\n",
       "      <td>1</td>\n",
       "      <td>1</td>\n",
       "      <td>0</td>\n",
       "      <td>0</td>\n",
       "      <td>1</td>\n",
       "      <td>0</td>\n",
       "    </tr>\n",
       "    <tr>\n",
       "      <th>3</th>\n",
       "      <td>699</td>\n",
       "      <td>39</td>\n",
       "      <td>1</td>\n",
       "      <td>0.0</td>\n",
       "      <td>2</td>\n",
       "      <td>0</td>\n",
       "      <td>0</td>\n",
       "      <td>93,826.63</td>\n",
       "      <td>0</td>\n",
       "      <td>1</td>\n",
       "      <td>0</td>\n",
       "      <td>0</td>\n",
       "      <td>1</td>\n",
       "      <td>0</td>\n",
       "    </tr>\n",
       "    <tr>\n",
       "      <th>4</th>\n",
       "      <td>850</td>\n",
       "      <td>43</td>\n",
       "      <td>2</td>\n",
       "      <td>125,510.82</td>\n",
       "      <td>1</td>\n",
       "      <td>1</td>\n",
       "      <td>1</td>\n",
       "      <td>79,084.1</td>\n",
       "      <td>0</td>\n",
       "      <td>0</td>\n",
       "      <td>0</td>\n",
       "      <td>1</td>\n",
       "      <td>1</td>\n",
       "      <td>0</td>\n",
       "    </tr>\n",
       "  </tbody>\n",
       "</table>\n",
       "</div>"
      ],
      "text/plain": [
       "   CreditScore  Age  Tenure    Balance  NumOfProducts  HasCrCard  \\\n",
       "0          619   42       2        0.0              1          1   \n",
       "1          608   41       1  83,807.86              1          0   \n",
       "2          502   42       8  159,660.8              3          1   \n",
       "3          699   39       1        0.0              2          0   \n",
       "4          850   43       2 125,510.82              1          1   \n",
       "\n",
       "   IsActiveMember  EstimatedSalary  Exited  Geography_France  \\\n",
       "0               1       101,348.88       1                 1   \n",
       "1               1       112,542.58       0                 0   \n",
       "2               0       113,931.57       1                 1   \n",
       "3               0        93,826.63       0                 1   \n",
       "4               1         79,084.1       0                 0   \n",
       "\n",
       "   Geography_Germany  Geography_Spain  Gender_Female  Gender_Male  \n",
       "0                  0                0              1            0  \n",
       "1                  0                1              1            0  \n",
       "2                  0                0              1            0  \n",
       "3                  0                0              1            0  \n",
       "4                  0                1              1            0  "
      ]
     },
     "execution_count": 86,
     "metadata": {},
     "output_type": "execute_result"
    }
   ],
   "source": [
    "df_preprocess.head()"
   ]
  },
  {
   "cell_type": "code",
   "execution_count": 87,
   "metadata": {},
   "outputs": [
    {
     "data": {
      "text/html": [
       "<div>\n",
       "<style scoped>\n",
       "    .dataframe tbody tr th:only-of-type {\n",
       "        vertical-align: middle;\n",
       "    }\n",
       "\n",
       "    .dataframe tbody tr th {\n",
       "        vertical-align: top;\n",
       "    }\n",
       "\n",
       "    .dataframe thead th {\n",
       "        text-align: right;\n",
       "    }\n",
       "</style>\n",
       "<table border=\"1\" class=\"dataframe\">\n",
       "  <thead>\n",
       "    <tr style=\"text-align: right;\">\n",
       "      <th></th>\n",
       "      <th>Age</th>\n",
       "      <th>Balance</th>\n",
       "      <th>IsActiveMember</th>\n",
       "      <th>Exited</th>\n",
       "      <th>Geography_France</th>\n",
       "      <th>Geography_Germany</th>\n",
       "      <th>Geography_Spain</th>\n",
       "      <th>Gender_Female</th>\n",
       "      <th>Gender_Male</th>\n",
       "    </tr>\n",
       "  </thead>\n",
       "  <tbody>\n",
       "    <tr>\n",
       "      <th>0</th>\n",
       "      <td>42</td>\n",
       "      <td>0.0</td>\n",
       "      <td>1</td>\n",
       "      <td>1</td>\n",
       "      <td>1</td>\n",
       "      <td>0</td>\n",
       "      <td>0</td>\n",
       "      <td>1</td>\n",
       "      <td>0</td>\n",
       "    </tr>\n",
       "    <tr>\n",
       "      <th>1</th>\n",
       "      <td>41</td>\n",
       "      <td>83,807.86</td>\n",
       "      <td>1</td>\n",
       "      <td>0</td>\n",
       "      <td>0</td>\n",
       "      <td>0</td>\n",
       "      <td>1</td>\n",
       "      <td>1</td>\n",
       "      <td>0</td>\n",
       "    </tr>\n",
       "    <tr>\n",
       "      <th>2</th>\n",
       "      <td>42</td>\n",
       "      <td>159,660.8</td>\n",
       "      <td>0</td>\n",
       "      <td>1</td>\n",
       "      <td>1</td>\n",
       "      <td>0</td>\n",
       "      <td>0</td>\n",
       "      <td>1</td>\n",
       "      <td>0</td>\n",
       "    </tr>\n",
       "    <tr>\n",
       "      <th>3</th>\n",
       "      <td>39</td>\n",
       "      <td>0.0</td>\n",
       "      <td>0</td>\n",
       "      <td>0</td>\n",
       "      <td>1</td>\n",
       "      <td>0</td>\n",
       "      <td>0</td>\n",
       "      <td>1</td>\n",
       "      <td>0</td>\n",
       "    </tr>\n",
       "    <tr>\n",
       "      <th>4</th>\n",
       "      <td>43</td>\n",
       "      <td>125,510.82</td>\n",
       "      <td>1</td>\n",
       "      <td>0</td>\n",
       "      <td>0</td>\n",
       "      <td>0</td>\n",
       "      <td>1</td>\n",
       "      <td>1</td>\n",
       "      <td>0</td>\n",
       "    </tr>\n",
       "  </tbody>\n",
       "</table>\n",
       "</div>"
      ],
      "text/plain": [
       "   Age    Balance  IsActiveMember  Exited  Geography_France  \\\n",
       "0   42        0.0               1       1                 1   \n",
       "1   41  83,807.86               1       0                 0   \n",
       "2   42  159,660.8               0       1                 1   \n",
       "3   39        0.0               0       0                 1   \n",
       "4   43 125,510.82               1       0                 0   \n",
       "\n",
       "   Geography_Germany  Geography_Spain  Gender_Female  Gender_Male  \n",
       "0                  0                0              1            0  \n",
       "1                  0                1              1            0  \n",
       "2                  0                0              1            0  \n",
       "3                  0                0              1            0  \n",
       "4                  0                1              1            0  "
      ]
     },
     "execution_count": 87,
     "metadata": {},
     "output_type": "execute_result"
    }
   ],
   "source": [
    "df_clean = df_preprocess.drop(columns=['CreditScore', 'Tenure', 'NumOfProducts', 'HasCrCard', 'EstimatedSalary'])\n",
    "df_clean.head()"
   ]
  },
  {
   "cell_type": "markdown",
   "metadata": {},
   "source": [
    "# Train-Test Split"
   ]
  },
  {
   "cell_type": "code",
   "execution_count": 88,
   "metadata": {},
   "outputs": [],
   "source": [
    "X = df_clean.drop(columns='Exited')\n",
    "y = df_clean.Exited"
   ]
  },
  {
   "cell_type": "code",
   "execution_count": 89,
   "metadata": {},
   "outputs": [],
   "source": [
    "X_train, X_test, y_train, y_test = train_test_split(X, y, stratify = y, test_size = .2, random_state=42) # stratify dilakukan agar pembagian train dan test nya dilakukan berdasarkan klasifikasi (survived atau tidak), bukan secara keseluruhan saja agar data train tidak hanya survived atau non-survived."
   ]
  },
  {
   "cell_type": "code",
   "execution_count": 90,
   "metadata": {},
   "outputs": [],
   "source": [
    "scaler1 = RobustScaler()\n",
    "\n",
    "X_train_scaled1 = scaler1.fit_transform(X_train)\n",
    "\n",
    "X_test_scaled1 = scaler1.fit_transform(X_test)"
   ]
  },
  {
   "cell_type": "code",
   "execution_count": 91,
   "metadata": {},
   "outputs": [],
   "source": [
    "scaler2 = MinMaxScaler()\n",
    "\n",
    "X_train_scaled2 = scaler2.fit_transform(X_train)\n",
    "\n",
    "X_test_scaled2 = scaler2.fit_transform(X_test)"
   ]
  },
  {
   "cell_type": "code",
   "execution_count": 92,
   "metadata": {},
   "outputs": [],
   "source": [
    "scaler3 = StandardScaler()\n",
    "\n",
    "X_train_scaled3 = scaler3.fit_transform(X_train)\n",
    "\n",
    "X_test_scaled3 = scaler3.fit_transform(X_test)"
   ]
  },
  {
   "cell_type": "code",
   "execution_count": 143,
   "metadata": {},
   "outputs": [
    {
     "data": {
      "text/plain": [
       "(8000, 8)"
      ]
     },
     "execution_count": 143,
     "metadata": {},
     "output_type": "execute_result"
    }
   ],
   "source": [
    "X_train.shape"
   ]
  },
  {
   "cell_type": "code",
   "execution_count": 144,
   "metadata": {},
   "outputs": [
    {
     "data": {
      "text/plain": [
       "(8000, 8)"
      ]
     },
     "execution_count": 144,
     "metadata": {},
     "output_type": "execute_result"
    }
   ],
   "source": [
    "X_train_scaled1.shape"
   ]
  },
  {
   "cell_type": "markdown",
   "metadata": {},
   "source": [
    "# Modelling"
   ]
  },
  {
   "cell_type": "code",
   "execution_count": 93,
   "metadata": {},
   "outputs": [],
   "source": [
    "modelDT = DecisionTreeClassifier()"
   ]
  },
  {
   "cell_type": "code",
   "execution_count": 95,
   "metadata": {},
   "outputs": [],
   "source": [
    "paramsDT = {\n",
    "    \"max_depth\" : [None, 3, 5, 7, 8, 10],    \n",
    "    \"min_samples_split\" : range(2,50,1),\n",
    "    \"min_samples_leaf\" : range(1,25,1),\n",
    "    \"max_features\" : [\"auto\", 0.3, 0.5, 0.7, 0.8]\n",
    "}"
   ]
  },
  {
   "cell_type": "code",
   "execution_count": 97,
   "metadata": {},
   "outputs": [
    {
     "name": "stdout",
     "output_type": "stream",
     "text": [
      "Fitting 3 folds for each of 34560 candidates, totalling 103680 fits\n"
     ]
    },
    {
     "name": "stderr",
     "output_type": "stream",
     "text": [
      "[Parallel(n_jobs=-1)]: Using backend LokyBackend with 8 concurrent workers.\n",
      "[Parallel(n_jobs=-1)]: Done  34 tasks      | elapsed:    4.0s\n",
      "[Parallel(n_jobs=-1)]: Done 1680 tasks      | elapsed:    8.1s\n",
      "[Parallel(n_jobs=-1)]: Done 5680 tasks      | elapsed:   17.4s\n",
      "[Parallel(n_jobs=-1)]: Done 11280 tasks      | elapsed:   31.7s\n",
      "[Parallel(n_jobs=-1)]: Done 18480 tasks      | elapsed:   51.5s\n",
      "[Parallel(n_jobs=-1)]: Done 27280 tasks      | elapsed:  1.2min\n",
      "[Parallel(n_jobs=-1)]: Done 37680 tasks      | elapsed:  1.6min\n",
      "[Parallel(n_jobs=-1)]: Done 49680 tasks      | elapsed:  2.1min\n",
      "[Parallel(n_jobs=-1)]: Done 63280 tasks      | elapsed:  2.6min\n",
      "[Parallel(n_jobs=-1)]: Done 78480 tasks      | elapsed:  3.4min\n",
      "[Parallel(n_jobs=-1)]: Done 95280 tasks      | elapsed:  4.2min\n",
      "[Parallel(n_jobs=-1)]: Done 103680 out of 103680 | elapsed:  4.7min finished\n"
     ]
    },
    {
     "data": {
      "text/plain": [
       "GridSearchCV(cv=3, estimator=DecisionTreeClassifier(), n_jobs=-1,\n",
       "             param_grid={'max_depth': [None, 3, 5, 7, 8, 10],\n",
       "                         'max_features': ['auto', 0.3, 0.5, 0.7, 0.8],\n",
       "                         'min_samples_leaf': range(1, 25),\n",
       "                         'min_samples_split': range(2, 50)},\n",
       "             verbose=1)"
      ]
     },
     "execution_count": 97,
     "metadata": {},
     "output_type": "execute_result"
    }
   ],
   "source": [
    "model_tuning = GridSearchCV(modelDT, paramsDT, cv=3, n_jobs=-1, verbose=1)\n",
    "\n",
    "model_tuning.fit(X_train, y_train)"
   ]
  },
  {
   "cell_type": "code",
   "execution_count": 98,
   "metadata": {},
   "outputs": [
    {
     "name": "stdout",
     "output_type": "stream",
     "text": [
      "Fitting 3 folds for each of 34560 candidates, totalling 103680 fits\n"
     ]
    },
    {
     "name": "stderr",
     "output_type": "stream",
     "text": [
      "[Parallel(n_jobs=-1)]: Using backend LokyBackend with 8 concurrent workers.\n",
      "[Parallel(n_jobs=-1)]: Done  56 tasks      | elapsed:    0.2s\n",
      "[Parallel(n_jobs=-1)]: Done 3824 tasks      | elapsed:    5.4s\n",
      "[Parallel(n_jobs=-1)]: Done 11824 tasks      | elapsed:   17.9s\n",
      "[Parallel(n_jobs=-1)]: Done 23024 tasks      | elapsed:   33.1s\n",
      "[Parallel(n_jobs=-1)]: Done 37424 tasks      | elapsed:   48.9s\n",
      "[Parallel(n_jobs=-1)]: Done 55024 tasks      | elapsed:  1.2min\n",
      "[Parallel(n_jobs=-1)]: Done 75824 tasks      | elapsed:  1.7min\n",
      "[Parallel(n_jobs=-1)]: Done 99824 tasks      | elapsed:  2.3min\n",
      "[Parallel(n_jobs=-1)]: Done 103680 out of 103680 | elapsed:  2.5min finished\n"
     ]
    },
    {
     "data": {
      "text/plain": [
       "GridSearchCV(cv=3, estimator=DecisionTreeClassifier(), n_jobs=-1,\n",
       "             param_grid={'max_depth': [None, 3, 5, 7, 8, 10],\n",
       "                         'max_features': ['auto', 0.3, 0.5, 0.7, 0.8],\n",
       "                         'min_samples_leaf': range(1, 25),\n",
       "                         'min_samples_split': range(2, 50)},\n",
       "             verbose=1)"
      ]
     },
     "execution_count": 98,
     "metadata": {},
     "output_type": "execute_result"
    }
   ],
   "source": [
    "model_tuning_scaledDT = GridSearchCV(modelDT, paramsDT, cv=3, n_jobs=-1, verbose=1)\n",
    "\n",
    "model_tuning_scaledDT.fit(X_train_scaled1, y_train)"
   ]
  },
  {
   "cell_type": "code",
   "execution_count": 99,
   "metadata": {},
   "outputs": [
    {
     "name": "stdout",
     "output_type": "stream",
     "text": [
      "Fitting 3 folds for each of 34560 candidates, totalling 103680 fits\n"
     ]
    },
    {
     "name": "stderr",
     "output_type": "stream",
     "text": [
      "[Parallel(n_jobs=-1)]: Using backend LokyBackend with 8 concurrent workers.\n",
      "[Parallel(n_jobs=-1)]: Done  56 tasks      | elapsed:    0.2s\n",
      "[Parallel(n_jobs=-1)]: Done 2160 tasks      | elapsed:    3.4s\n",
      "[Parallel(n_jobs=-1)]: Done 6160 tasks      | elapsed:    8.9s\n",
      "[Parallel(n_jobs=-1)]: Done 11760 tasks      | elapsed:   18.5s\n",
      "[Parallel(n_jobs=-1)]: Done 18960 tasks      | elapsed:   31.6s\n",
      "[Parallel(n_jobs=-1)]: Done 27760 tasks      | elapsed:   41.9s\n",
      "[Parallel(n_jobs=-1)]: Done 38160 tasks      | elapsed:   54.9s\n",
      "[Parallel(n_jobs=-1)]: Done 50160 tasks      | elapsed:  1.2min\n",
      "[Parallel(n_jobs=-1)]: Done 63760 tasks      | elapsed:  1.5min\n",
      "[Parallel(n_jobs=-1)]: Done 78960 tasks      | elapsed:  1.9min\n",
      "[Parallel(n_jobs=-1)]: Done 95760 tasks      | elapsed:  2.4min\n",
      "[Parallel(n_jobs=-1)]: Done 103680 out of 103680 | elapsed:  2.6min finished\n"
     ]
    },
    {
     "data": {
      "text/plain": [
       "GridSearchCV(cv=3, estimator=DecisionTreeClassifier(), n_jobs=-1,\n",
       "             param_grid={'max_depth': [None, 3, 5, 7, 8, 10],\n",
       "                         'max_features': ['auto', 0.3, 0.5, 0.7, 0.8],\n",
       "                         'min_samples_leaf': range(1, 25),\n",
       "                         'min_samples_split': range(2, 50)},\n",
       "             verbose=1)"
      ]
     },
     "execution_count": 99,
     "metadata": {},
     "output_type": "execute_result"
    }
   ],
   "source": [
    "model_tuning_scaledDT2 = GridSearchCV(modelDT, paramsDT, cv=3, n_jobs=-1, verbose=1)\n",
    "\n",
    "model_tuning_scaledDT2.fit(X_train_scaled2, y_train)"
   ]
  },
  {
   "cell_type": "code",
   "execution_count": 157,
   "metadata": {},
   "outputs": [
    {
     "name": "stdout",
     "output_type": "stream",
     "text": [
      "Fitting 3 folds for each of 34560 candidates, totalling 103680 fits\n"
     ]
    },
    {
     "name": "stderr",
     "output_type": "stream",
     "text": [
      "[Parallel(n_jobs=-1)]: Using backend LokyBackend with 8 concurrent workers.\n",
      "[Parallel(n_jobs=-1)]: Done  34 tasks      | elapsed:    3.7s\n",
      "[Parallel(n_jobs=-1)]: Done 1680 tasks      | elapsed:    6.4s\n",
      "[Parallel(n_jobs=-1)]: Done 5680 tasks      | elapsed:   12.1s\n",
      "[Parallel(n_jobs=-1)]: Done 11280 tasks      | elapsed:   21.5s\n",
      "[Parallel(n_jobs=-1)]: Done 18480 tasks      | elapsed:   34.7s\n",
      "[Parallel(n_jobs=-1)]: Done 27280 tasks      | elapsed:   44.0s\n",
      "[Parallel(n_jobs=-1)]: Done 37680 tasks      | elapsed:   56.0s\n",
      "[Parallel(n_jobs=-1)]: Done 49680 tasks      | elapsed:  1.2min\n",
      "[Parallel(n_jobs=-1)]: Done 63280 tasks      | elapsed:  1.5min\n",
      "[Parallel(n_jobs=-1)]: Done 78480 tasks      | elapsed:  1.9min\n",
      "[Parallel(n_jobs=-1)]: Done 95280 tasks      | elapsed:  2.4min\n",
      "[Parallel(n_jobs=-1)]: Done 103680 out of 103680 | elapsed:  2.7min finished\n"
     ]
    },
    {
     "data": {
      "text/plain": [
       "GridSearchCV(cv=3, estimator=DecisionTreeClassifier(), n_jobs=-1,\n",
       "             param_grid={'max_depth': [None, 3, 5, 7, 8, 10],\n",
       "                         'max_features': ['auto', 0.3, 0.5, 0.7, 0.8],\n",
       "                         'min_samples_leaf': range(1, 25),\n",
       "                         'min_samples_split': range(2, 50)},\n",
       "             verbose=1)"
      ]
     },
     "execution_count": 157,
     "metadata": {},
     "output_type": "execute_result"
    }
   ],
   "source": [
    "model_tuning_scaledDT3 = GridSearchCV(modelDT, paramsDT, cv=3, n_jobs=-1, verbose=1)\n",
    "\n",
    "model_tuning_scaledDT3.fit(X_train_scaled3, y_train)"
   ]
  },
  {
   "cell_type": "code",
   "execution_count": 101,
   "metadata": {},
   "outputs": [],
   "source": [
    "modelRF = RandomForestClassifier()"
   ]
  },
  {
   "cell_type": "code",
   "execution_count": 105,
   "metadata": {},
   "outputs": [],
   "source": [
    "paramsRF = {\n",
    "    \"n_estimators\" : [100, 200, 300, 400, 500],\n",
    "    \"max_depth\" : [None, 3, 5, 7, 8, 10],\n",
    "    \"min_samples_leaf\" : [1, 5, 7, 10, 15],\n",
    "    \"max_features\" : [\"auto\", 0.3, 0.5, 0.7, 0.8]\n",
    "}"
   ]
  },
  {
   "cell_type": "code",
   "execution_count": 106,
   "metadata": {},
   "outputs": [
    {
     "name": "stdout",
     "output_type": "stream",
     "text": [
      "Fitting 3 folds for each of 750 candidates, totalling 2250 fits\n"
     ]
    },
    {
     "name": "stderr",
     "output_type": "stream",
     "text": [
      "[Parallel(n_jobs=-1)]: Using backend LokyBackend with 8 concurrent workers.\n",
      "[Parallel(n_jobs=-1)]: Done  34 tasks      | elapsed:   13.7s\n",
      "[Parallel(n_jobs=-1)]: Done 184 tasks      | elapsed:  1.1min\n",
      "[Parallel(n_jobs=-1)]: Done 434 tasks      | elapsed:  2.7min\n",
      "[Parallel(n_jobs=-1)]: Done 784 tasks      | elapsed:  4.2min\n",
      "[Parallel(n_jobs=-1)]: Done 1234 tasks      | elapsed:  6.4min\n",
      "[Parallel(n_jobs=-1)]: Done 1784 tasks      | elapsed:  9.6min\n",
      "[Parallel(n_jobs=-1)]: Done 2250 out of 2250 | elapsed: 12.5min finished\n"
     ]
    },
    {
     "data": {
      "text/plain": [
       "GridSearchCV(cv=3, estimator=RandomForestClassifier(), n_jobs=-1,\n",
       "             param_grid={'max_depth': [None, 3, 5, 7, 8, 10],\n",
       "                         'max_features': ['auto', 0.3, 0.5, 0.7, 0.8],\n",
       "                         'min_samples_leaf': [1, 5, 7, 10, 15],\n",
       "                         'n_estimators': [100, 200, 300, 400, 500]},\n",
       "             verbose=1)"
      ]
     },
     "execution_count": 106,
     "metadata": {},
     "output_type": "execute_result"
    }
   ],
   "source": [
    "model_tuningRF = GridSearchCV(modelRF, paramsRF, cv=3, n_jobs=-1, verbose=1)\n",
    "\n",
    "model_tuningRF.fit(X_train, y_train)"
   ]
  },
  {
   "cell_type": "code",
   "execution_count": 107,
   "metadata": {},
   "outputs": [
    {
     "name": "stdout",
     "output_type": "stream",
     "text": [
      "Fitting 3 folds for each of 750 candidates, totalling 2250 fits\n"
     ]
    },
    {
     "name": "stderr",
     "output_type": "stream",
     "text": [
      "[Parallel(n_jobs=-1)]: Using backend LokyBackend with 8 concurrent workers.\n",
      "[Parallel(n_jobs=-1)]: Done  34 tasks      | elapsed:   12.8s\n",
      "[Parallel(n_jobs=-1)]: Done 184 tasks      | elapsed:  1.1min\n",
      "[Parallel(n_jobs=-1)]: Done 434 tasks      | elapsed:  2.8min\n",
      "[Parallel(n_jobs=-1)]: Done 784 tasks      | elapsed:  4.4min\n",
      "[Parallel(n_jobs=-1)]: Done 1234 tasks      | elapsed: 10.2min\n",
      "[Parallel(n_jobs=-1)]: Done 1784 tasks      | elapsed: 13.4min\n",
      "[Parallel(n_jobs=-1)]: Done 2250 out of 2250 | elapsed: 16.5min finished\n"
     ]
    },
    {
     "data": {
      "text/plain": [
       "GridSearchCV(cv=3, estimator=RandomForestClassifier(), n_jobs=-1,\n",
       "             param_grid={'max_depth': [None, 3, 5, 7, 8, 10],\n",
       "                         'max_features': ['auto', 0.3, 0.5, 0.7, 0.8],\n",
       "                         'min_samples_leaf': [1, 5, 7, 10, 15],\n",
       "                         'n_estimators': [100, 200, 300, 400, 500]},\n",
       "             verbose=1)"
      ]
     },
     "execution_count": 107,
     "metadata": {},
     "output_type": "execute_result"
    }
   ],
   "source": [
    "model_tuning_scaledRF = GridSearchCV(modelRF, paramsRF, cv=3, n_jobs=-1, verbose=1)\n",
    "\n",
    "model_tuning_scaledRF.fit(X_train_scaled1, y_train)"
   ]
  },
  {
   "cell_type": "code",
   "execution_count": 167,
   "metadata": {},
   "outputs": [
    {
     "name": "stdout",
     "output_type": "stream",
     "text": [
      "Fitting 3 folds for each of 750 candidates, totalling 2250 fits\n"
     ]
    },
    {
     "name": "stderr",
     "output_type": "stream",
     "text": [
      "[Parallel(n_jobs=-1)]: Using backend LokyBackend with 8 concurrent workers.\n",
      "[Parallel(n_jobs=-1)]: Done  34 tasks      | elapsed:   12.6s\n",
      "[Parallel(n_jobs=-1)]: Done 184 tasks      | elapsed:   55.6s\n",
      "[Parallel(n_jobs=-1)]: Done 434 tasks      | elapsed:  2.3min\n",
      "[Parallel(n_jobs=-1)]: Done 784 tasks      | elapsed:  3.6min\n",
      "[Parallel(n_jobs=-1)]: Done 1234 tasks      | elapsed:  5.6min\n",
      "[Parallel(n_jobs=-1)]: Done 1784 tasks      | elapsed:  8.5min\n",
      "[Parallel(n_jobs=-1)]: Done 2250 out of 2250 | elapsed: 11.2min finished\n"
     ]
    },
    {
     "data": {
      "text/plain": [
       "GridSearchCV(cv=3, estimator=RandomForestClassifier(), n_jobs=-1,\n",
       "             param_grid={'max_depth': [None, 3, 5, 7, 8, 10],\n",
       "                         'max_features': ['auto', 0.3, 0.5, 0.7, 0.8],\n",
       "                         'min_samples_leaf': [1, 5, 7, 10, 15],\n",
       "                         'n_estimators': [100, 200, 300, 400, 500]},\n",
       "             verbose=1)"
      ]
     },
     "execution_count": 167,
     "metadata": {},
     "output_type": "execute_result"
    }
   ],
   "source": [
    "model_tuning_scaledRF2 = GridSearchCV(modelRF, paramsRF, cv=3, n_jobs=-1, verbose=1)\n",
    "\n",
    "model_tuning_scaledRF2.fit(X_train_scaled2, y_train)"
   ]
  },
  {
   "cell_type": "code",
   "execution_count": 168,
   "metadata": {},
   "outputs": [
    {
     "name": "stdout",
     "output_type": "stream",
     "text": [
      "Fitting 3 folds for each of 750 candidates, totalling 2250 fits\n"
     ]
    },
    {
     "name": "stderr",
     "output_type": "stream",
     "text": [
      "[Parallel(n_jobs=-1)]: Using backend LokyBackend with 8 concurrent workers.\n",
      "[Parallel(n_jobs=-1)]: Done  34 tasks      | elapsed:   10.3s\n",
      "[Parallel(n_jobs=-1)]: Done 184 tasks      | elapsed:   54.3s\n",
      "[Parallel(n_jobs=-1)]: Done 434 tasks      | elapsed:  2.4min\n",
      "[Parallel(n_jobs=-1)]: Done 784 tasks      | elapsed:  3.7min\n",
      "[Parallel(n_jobs=-1)]: Done 1234 tasks      | elapsed:  5.8min\n",
      "[Parallel(n_jobs=-1)]: Done 1784 tasks      | elapsed:  8.9min\n",
      "[Parallel(n_jobs=-1)]: Done 2250 out of 2250 | elapsed: 11.9min finished\n"
     ]
    },
    {
     "data": {
      "text/plain": [
       "GridSearchCV(cv=3, estimator=RandomForestClassifier(), n_jobs=-1,\n",
       "             param_grid={'max_depth': [None, 3, 5, 7, 8, 10],\n",
       "                         'max_features': ['auto', 0.3, 0.5, 0.7, 0.8],\n",
       "                         'min_samples_leaf': [1, 5, 7, 10, 15],\n",
       "                         'n_estimators': [100, 200, 300, 400, 500]},\n",
       "             verbose=1)"
      ]
     },
     "execution_count": 168,
     "metadata": {},
     "output_type": "execute_result"
    }
   ],
   "source": [
    "model_tuning_scaledRF3 = GridSearchCV(modelRF, paramsRF, cv=3, n_jobs=-1, verbose=1)\n",
    "\n",
    "model_tuning_scaledRF3.fit(X_train_scaled3, y_train)"
   ]
  },
  {
   "cell_type": "code",
   "execution_count": 109,
   "metadata": {},
   "outputs": [],
   "source": [
    "model_SVM = SVC(max_iter=100)"
   ]
  },
  {
   "cell_type": "code",
   "execution_count": 110,
   "metadata": {},
   "outputs": [],
   "source": [
    "paramSVM ={\n",
    "    \"C\" : [0.1, 0.5, 1],\n",
    "    \"gamma\" : np.logspace(-3, 3, 7),\n",
    "    \"class_weight\" : [{0: x, 1: 1-x} for x in [0.1, 0.15, 0.2, 0.25, 0.3, 0.05] ]\n",
    "}"
   ]
  },
  {
   "cell_type": "code",
   "execution_count": 111,
   "metadata": {},
   "outputs": [
    {
     "name": "stdout",
     "output_type": "stream",
     "text": [
      "Fitting 3 folds for each of 126 candidates, totalling 378 fits\n"
     ]
    },
    {
     "name": "stderr",
     "output_type": "stream",
     "text": [
      "[Parallel(n_jobs=-1)]: Using backend LokyBackend with 8 concurrent workers.\n",
      "[Parallel(n_jobs=-1)]: Done  52 tasks      | elapsed:    1.2s\n",
      "[Parallel(n_jobs=-1)]: Done 352 tasks      | elapsed:    7.0s\n",
      "[Parallel(n_jobs=-1)]: Done 378 out of 378 | elapsed:    7.5s finished\n",
      "C:\\Users\\ASUS\\anaconda3\\lib\\site-packages\\sklearn\\svm\\_base.py:249: ConvergenceWarning: Solver terminated early (max_iter=100).  Consider pre-processing your data with StandardScaler or MinMaxScaler.\n",
      "  % self.max_iter, ConvergenceWarning)\n"
     ]
    },
    {
     "data": {
      "text/plain": [
       "GridSearchCV(cv=3, estimator=SVC(max_iter=100), n_jobs=-1,\n",
       "             param_grid={'C': [0.1, 0.5, 1],\n",
       "                         'class_weight': [{0: 0.1, 1: 0.9}, {0: 0.15, 1: 0.85},\n",
       "                                          {0: 0.2, 1: 0.8}, {0: 0.25, 1: 0.75},\n",
       "                                          {0: 0.3, 1: 0.7},\n",
       "                                          {0: 0.05, 1: 0.95}],\n",
       "                         'gamma': array([1.e-03, 1.e-02, 1.e-01, 1.e+00, 1.e+01, 1.e+02, 1.e+03])},\n",
       "             verbose=1)"
      ]
     },
     "execution_count": 111,
     "metadata": {},
     "output_type": "execute_result"
    }
   ],
   "source": [
    "model_tuning_SVM = GridSearchCV(model_SVM, paramSVM, cv=3, n_jobs=-1, verbose=1)\n",
    "\n",
    "model_tuning_SVM.fit(X_train, y_train)"
   ]
  },
  {
   "cell_type": "code",
   "execution_count": 112,
   "metadata": {},
   "outputs": [
    {
     "name": "stdout",
     "output_type": "stream",
     "text": [
      "Fitting 3 folds for each of 126 candidates, totalling 378 fits\n"
     ]
    },
    {
     "name": "stderr",
     "output_type": "stream",
     "text": [
      "[Parallel(n_jobs=-1)]: Using backend LokyBackend with 8 concurrent workers.\n",
      "[Parallel(n_jobs=-1)]: Done  56 tasks      | elapsed:    0.6s\n",
      "[Parallel(n_jobs=-1)]: Done 363 out of 378 | elapsed:    4.0s remaining:    0.1s\n",
      "[Parallel(n_jobs=-1)]: Done 378 out of 378 | elapsed:    4.1s finished\n",
      "C:\\Users\\ASUS\\anaconda3\\lib\\site-packages\\sklearn\\svm\\_base.py:249: ConvergenceWarning: Solver terminated early (max_iter=100).  Consider pre-processing your data with StandardScaler or MinMaxScaler.\n",
      "  % self.max_iter, ConvergenceWarning)\n"
     ]
    },
    {
     "data": {
      "text/plain": [
       "GridSearchCV(cv=3, estimator=SVC(max_iter=100), n_jobs=-1,\n",
       "             param_grid={'C': [0.1, 0.5, 1],\n",
       "                         'class_weight': [{0: 0.1, 1: 0.9}, {0: 0.15, 1: 0.85},\n",
       "                                          {0: 0.2, 1: 0.8}, {0: 0.25, 1: 0.75},\n",
       "                                          {0: 0.3, 1: 0.7},\n",
       "                                          {0: 0.05, 1: 0.95}],\n",
       "                         'gamma': array([1.e-03, 1.e-02, 1.e-01, 1.e+00, 1.e+01, 1.e+02, 1.e+03])},\n",
       "             verbose=1)"
      ]
     },
     "execution_count": 112,
     "metadata": {},
     "output_type": "execute_result"
    }
   ],
   "source": [
    "model_tuning_scaledSVM = GridSearchCV(model_SVM, paramSVM, cv=3, n_jobs=-1, verbose=1)\n",
    "\n",
    "model_tuning_scaledSVM.fit(X_train_scaled1, y_train)"
   ]
  },
  {
   "cell_type": "code",
   "execution_count": 114,
   "metadata": {},
   "outputs": [
    {
     "name": "stdout",
     "output_type": "stream",
     "text": [
      "Fitting 3 folds for each of 126 candidates, totalling 378 fits\n"
     ]
    },
    {
     "name": "stderr",
     "output_type": "stream",
     "text": [
      "[Parallel(n_jobs=-1)]: Using backend LokyBackend with 8 concurrent workers.\n",
      "[Parallel(n_jobs=-1)]: Done  56 tasks      | elapsed:    0.6s\n",
      "[Parallel(n_jobs=-1)]: Done 363 out of 378 | elapsed:    3.5s remaining:    0.0s\n",
      "[Parallel(n_jobs=-1)]: Done 378 out of 378 | elapsed:    3.6s finished\n",
      "C:\\Users\\ASUS\\anaconda3\\lib\\site-packages\\sklearn\\svm\\_base.py:249: ConvergenceWarning: Solver terminated early (max_iter=100).  Consider pre-processing your data with StandardScaler or MinMaxScaler.\n",
      "  % self.max_iter, ConvergenceWarning)\n"
     ]
    },
    {
     "data": {
      "text/plain": [
       "GridSearchCV(cv=3, estimator=SVC(max_iter=100), n_jobs=-1,\n",
       "             param_grid={'C': [0.1, 0.5, 1],\n",
       "                         'class_weight': [{0: 0.1, 1: 0.9}, {0: 0.15, 1: 0.85},\n",
       "                                          {0: 0.2, 1: 0.8}, {0: 0.25, 1: 0.75},\n",
       "                                          {0: 0.3, 1: 0.7},\n",
       "                                          {0: 0.05, 1: 0.95}],\n",
       "                         'gamma': array([1.e-03, 1.e-02, 1.e-01, 1.e+00, 1.e+01, 1.e+02, 1.e+03])},\n",
       "             verbose=1)"
      ]
     },
     "execution_count": 114,
     "metadata": {},
     "output_type": "execute_result"
    }
   ],
   "source": [
    "model_tuning_scaledSVM2 = GridSearchCV(model_SVM, paramSVM, cv=3, n_jobs=-1, verbose=1)\n",
    "\n",
    "model_tuning_scaledSVM2.fit(X_train_scaled2, y_train)"
   ]
  },
  {
   "cell_type": "code",
   "execution_count": 115,
   "metadata": {},
   "outputs": [
    {
     "name": "stdout",
     "output_type": "stream",
     "text": [
      "Fitting 3 folds for each of 126 candidates, totalling 378 fits\n"
     ]
    },
    {
     "name": "stderr",
     "output_type": "stream",
     "text": [
      "[Parallel(n_jobs=-1)]: Using backend LokyBackend with 8 concurrent workers.\n",
      "[Parallel(n_jobs=-1)]: Done  56 tasks      | elapsed:    0.7s\n",
      "[Parallel(n_jobs=-1)]: Done 378 out of 378 | elapsed:    4.5s finished\n",
      "C:\\Users\\ASUS\\anaconda3\\lib\\site-packages\\sklearn\\svm\\_base.py:249: ConvergenceWarning: Solver terminated early (max_iter=100).  Consider pre-processing your data with StandardScaler or MinMaxScaler.\n",
      "  % self.max_iter, ConvergenceWarning)\n"
     ]
    },
    {
     "data": {
      "text/plain": [
       "GridSearchCV(cv=3, estimator=SVC(max_iter=100), n_jobs=-1,\n",
       "             param_grid={'C': [0.1, 0.5, 1],\n",
       "                         'class_weight': [{0: 0.1, 1: 0.9}, {0: 0.15, 1: 0.85},\n",
       "                                          {0: 0.2, 1: 0.8}, {0: 0.25, 1: 0.75},\n",
       "                                          {0: 0.3, 1: 0.7},\n",
       "                                          {0: 0.05, 1: 0.95}],\n",
       "                         'gamma': array([1.e-03, 1.e-02, 1.e-01, 1.e+00, 1.e+01, 1.e+02, 1.e+03])},\n",
       "             verbose=1)"
      ]
     },
     "execution_count": 115,
     "metadata": {},
     "output_type": "execute_result"
    }
   ],
   "source": [
    "model_tuning_scaledSVM3 = GridSearchCV(model_SVM, paramSVM, cv=3, n_jobs=-1, verbose=1)\n",
    "\n",
    "model_tuning_scaledSVM3.fit(X_train_scaled3, y_train)"
   ]
  },
  {
   "cell_type": "code",
   "execution_count": 244,
   "metadata": {},
   "outputs": [],
   "source": [
    "ModelXGB = XGBClassifier()"
   ]
  },
  {
   "cell_type": "code",
   "execution_count": 245,
   "metadata": {},
   "outputs": [],
   "source": [
    "paramXGB ={\n",
    "    \"max_depth\" : [1, 3, 5, 7, 10],\n",
    "    \"learning_rate\" : [0.1, 0.3, 0.5, 0.7, 0.8],\n",
    "    \"n_estimators\" : [100, 200, 300, 400, 500],    \n",
    "}"
   ]
  },
  {
   "cell_type": "code",
   "execution_count": 246,
   "metadata": {},
   "outputs": [
    {
     "name": "stdout",
     "output_type": "stream",
     "text": [
      "Fitting 3 folds for each of 125 candidates, totalling 375 fits\n"
     ]
    },
    {
     "name": "stderr",
     "output_type": "stream",
     "text": [
      "[Parallel(n_jobs=-1)]: Using backend LokyBackend with 8 concurrent workers.\n",
      "[Parallel(n_jobs=-1)]: Done  34 tasks      | elapsed:    6.3s\n",
      "[Parallel(n_jobs=-1)]: Done 184 tasks      | elapsed:   35.0s\n",
      "[Parallel(n_jobs=-1)]: Done 375 out of 375 | elapsed:  1.3min finished\n"
     ]
    },
    {
     "data": {
      "text/plain": [
       "GridSearchCV(cv=3, estimator=XGBClassifier(), n_jobs=-1,\n",
       "             param_grid={'learning_rate': [0.1, 0.3, 0.5, 0.7, 0.8],\n",
       "                         'max_depth': [1, 3, 5, 7, 10],\n",
       "                         'n_estimators': [100, 200, 300, 400, 500]},\n",
       "             verbose=1)"
      ]
     },
     "execution_count": 246,
     "metadata": {},
     "output_type": "execute_result"
    }
   ],
   "source": [
    "model_tuning_XGB = GridSearchCV(ModelXGB, paramXGB, cv=3, n_jobs=-1, verbose=1)\n",
    "\n",
    "model_tuning_XGB.fit(X_train, y_train)"
   ]
  },
  {
   "cell_type": "code",
   "execution_count": 247,
   "metadata": {},
   "outputs": [
    {
     "name": "stdout",
     "output_type": "stream",
     "text": [
      "Fitting 3 folds for each of 125 candidates, totalling 375 fits\n"
     ]
    },
    {
     "name": "stderr",
     "output_type": "stream",
     "text": [
      "[Parallel(n_jobs=-1)]: Using backend LokyBackend with 8 concurrent workers.\n",
      "[Parallel(n_jobs=-1)]: Done  52 tasks      | elapsed:    7.8s\n",
      "[Parallel(n_jobs=-1)]: Done 208 tasks      | elapsed:   39.8s\n",
      "[Parallel(n_jobs=-1)]: Done 375 out of 375 | elapsed:  1.3min finished\n"
     ]
    },
    {
     "data": {
      "text/plain": [
       "GridSearchCV(cv=3, estimator=XGBClassifier(), n_jobs=-1,\n",
       "             param_grid={'learning_rate': [0.1, 0.3, 0.5, 0.7, 0.8],\n",
       "                         'max_depth': [1, 3, 5, 7, 10],\n",
       "                         'n_estimators': [100, 200, 300, 400, 500]},\n",
       "             verbose=1)"
      ]
     },
     "execution_count": 247,
     "metadata": {},
     "output_type": "execute_result"
    }
   ],
   "source": [
    "model_tuning_scaledXGB = GridSearchCV(ModelXGB, paramXGB, cv=3, n_jobs=-1, verbose=1)\n",
    "\n",
    "model_tuning_scaledXGB.fit(X_train_scaled1, y_train)"
   ]
  },
  {
   "cell_type": "code",
   "execution_count": 248,
   "metadata": {},
   "outputs": [
    {
     "name": "stdout",
     "output_type": "stream",
     "text": [
      "Fitting 3 folds for each of 125 candidates, totalling 375 fits\n"
     ]
    },
    {
     "name": "stderr",
     "output_type": "stream",
     "text": [
      "[Parallel(n_jobs=-1)]: Using backend LokyBackend with 8 concurrent workers.\n",
      "[Parallel(n_jobs=-1)]: Done  52 tasks      | elapsed:    7.4s\n",
      "[Parallel(n_jobs=-1)]: Done 208 tasks      | elapsed:   37.4s\n",
      "[Parallel(n_jobs=-1)]: Done 375 out of 375 | elapsed:  1.3min finished\n"
     ]
    },
    {
     "data": {
      "text/plain": [
       "GridSearchCV(cv=3, estimator=XGBClassifier(), n_jobs=-1,\n",
       "             param_grid={'learning_rate': [0.1, 0.3, 0.5, 0.7, 0.8],\n",
       "                         'max_depth': [1, 3, 5, 7, 10],\n",
       "                         'n_estimators': [100, 200, 300, 400, 500]},\n",
       "             verbose=1)"
      ]
     },
     "execution_count": 248,
     "metadata": {},
     "output_type": "execute_result"
    }
   ],
   "source": [
    "model_tuning_scaledXGB2 = GridSearchCV(ModelXGB, paramXGB, cv=3, n_jobs=-1, verbose=1)\n",
    "\n",
    "model_tuning_scaledXGB2.fit(X_train_scaled2, y_train)"
   ]
  },
  {
   "cell_type": "code",
   "execution_count": 249,
   "metadata": {},
   "outputs": [
    {
     "name": "stdout",
     "output_type": "stream",
     "text": [
      "Fitting 3 folds for each of 125 candidates, totalling 375 fits\n"
     ]
    },
    {
     "name": "stderr",
     "output_type": "stream",
     "text": [
      "[Parallel(n_jobs=-1)]: Using backend LokyBackend with 8 concurrent workers.\n",
      "[Parallel(n_jobs=-1)]: Done  52 tasks      | elapsed:    8.5s\n",
      "[Parallel(n_jobs=-1)]: Done 208 tasks      | elapsed:   41.3s\n",
      "[Parallel(n_jobs=-1)]: Done 375 out of 375 | elapsed:  1.3min finished\n"
     ]
    },
    {
     "data": {
      "text/plain": [
       "GridSearchCV(cv=3, estimator=XGBClassifier(), n_jobs=-1,\n",
       "             param_grid={'learning_rate': [0.1, 0.3, 0.5, 0.7, 0.8],\n",
       "                         'max_depth': [1, 3, 5, 7, 10],\n",
       "                         'n_estimators': [100, 200, 300, 400, 500]},\n",
       "             verbose=1)"
      ]
     },
     "execution_count": 249,
     "metadata": {},
     "output_type": "execute_result"
    }
   ],
   "source": [
    "model_tuning_scaledXGB3 = GridSearchCV(ModelXGB, paramXGB, cv=3, n_jobs=-1, verbose=1)\n",
    "\n",
    "model_tuning_scaledXGB3.fit(X_train_scaled3, y_train)"
   ]
  },
  {
   "cell_type": "markdown",
   "metadata": {},
   "source": [
    "# Evaluation Metrics"
   ]
  },
  {
   "cell_type": "code",
   "execution_count": 108,
   "metadata": {},
   "outputs": [],
   "source": [
    "y_predDT = model_tuning.predict(X_test)"
   ]
  },
  {
   "cell_type": "code",
   "execution_count": 116,
   "metadata": {},
   "outputs": [
    {
     "data": {
      "text/plain": [
       "<matplotlib.axes._subplots.AxesSubplot at 0x1fd6b844948>"
      ]
     },
     "execution_count": 116,
     "metadata": {},
     "output_type": "execute_result"
    },
    {
     "data": {
      "image/png": "[encoded data removed]",
      "text/plain": [
       "<Figure size 432x288 with 2 Axes>"
      ]
     },
     "metadata": {
      "needs_background": "light"
     },
     "output_type": "display_data"
    }
   ],
   "source": [
    "cm = confusion_matrix(y_test, y_predDT, labels=[1, 0]) \n",
    "df = pd.DataFrame(cm, \n",
    "                 columns=['Pred 1', 'Pred 0'],\n",
    "                 index = ['Act 1', 'Act 0'])\n",
    "sns.heatmap(df, annot=True)"
   ]
  },
  {
   "cell_type": "code",
   "execution_count": 117,
   "metadata": {},
   "outputs": [
    {
     "name": "stdout",
     "output_type": "stream",
     "text": [
      "              precision    recall  f1-score   support\n",
      "\n",
      "           0       0.84      0.95      0.89      1593\n",
      "           1       0.61      0.31      0.41       407\n",
      "\n",
      "    accuracy                           0.82      2000\n",
      "   macro avg       0.72      0.63      0.65      2000\n",
      "weighted avg       0.79      0.82      0.79      2000\n",
      "\n"
     ]
    }
   ],
   "source": [
    "print(classification_report(y_test, y_predDT))"
   ]
  },
  {
   "cell_type": "code",
   "execution_count": 219,
   "metadata": {},
   "outputs": [
    {
     "data": {
      "text/plain": [
       "0.6290535527823664"
      ]
     },
     "execution_count": 219,
     "metadata": {},
     "output_type": "execute_result"
    }
   ],
   "source": [
    "roc_auc_score(y_test, y_predDT)"
   ]
  },
  {
   "cell_type": "code",
   "execution_count": 218,
   "metadata": {},
   "outputs": [
    {
     "data": {
      "image/png": "[encoded data removed]",
      "text/plain": [
       "<Figure size 720x576 with 1 Axes>"
      ]
     },
     "metadata": {
      "needs_background": "light"
     },
     "output_type": "display_data"
    }
   ],
   "source": [
    "probs = model_tuning.predict_proba(X_test)\n",
    "\n",
    "preds = probs[:, 1]\n",
    "\n",
    "fpr, tpr, threshold = roc_curve(y_test, preds)\n",
    "sc = round(auc(fpr,tpr),2)\n",
    "\n",
    "plt.figure(figsize=(10,8))\n",
    "plt.title(\"Receiver Operator Characteristic\")\n",
    "plt.plot(fpr, tpr, 'b', label=f'AUC = {sc} ')\n",
    "\n",
    "plt.plot([0,1], [0,1], 'r-.')\n",
    "\n",
    "plt.ylim([0,1])\n",
    "plt.xlim([0,1])\n",
    "plt.legend(loc=2)\n",
    "plt.ylabel(\"True Positive Rates\")\n",
    "plt.xlabel(\"False Positive Rates\")\n",
    "plt.show()"
   ]
  },
  {
   "cell_type": "markdown",
   "metadata": {},
   "source": [
    "### Confusion Matrix adalah perbandingan antara data aktual dengan data prediksi dari hasil pemodelan Machine Learning. Maka:\n",
    "- Act 0 : Data yang sebenarnya bernilai 0\n",
    "- Act 1 : Data yang sebenarnya bernilai 1\n",
    "- Pred 0 : Data yang diprediksi bernilai 0\n",
    "- Pred 1 : Data yang diprediksi bernilai 1"
   ]
  },
  {
   "cell_type": "markdown",
   "metadata": {},
   "source": [
    "### Dari Confusion Matrix, kita dapat menghitung persamaan Precision dan Recall. Precision positif adalah **JUMLAH TEBAKAN BENAR DI KELAS POSITIF**  dibanding **SELURUH TEBAKAN POSITIF** sedangkan  Recall positif adalah **JUMLAH TEBAKAN BENAR DI KELAS POSITIF** dibagi **JUMLAH DATA AKTUAL POSITIF**. Konotasi positif dan negatif ditarik dari apakah nasabah akan menutup akun (positif bernilai 1) atau tidak (negatif bernilai 0). Nilai F1 adalah keseimbangan antara nilai precision dan recall. Penting untuk menemukan nilai F1 yang tinggi karena nilai precision dan recall bersifat trade-off, jika nilai precision naik maka nilai recall akan turun, dan sebaliknya."
   ]
  },
  {
   "cell_type": "markdown",
   "metadata": {},
   "source": [
    "### Selain precision dan recall ada istilah False Positive dan False Negative. False Positive adalah data yang ditebak positif tetapi sebenarnya negatif sedangkan False Negative adalah data yang ditebak negatif tetapi sebenarnya positif. Precision yang tinggi berfungsi menurunkan jumlah False Positive sedangkan Recall yang tinggi berfungsi menurunkan jumlah False Negative."
   ]
  },
  {
   "cell_type": "markdown",
   "metadata": {},
   "source": [
    "### Pada ujian modul 3 ini, strategi yang dipilih adalah untuk meningkatkan nilai Recall pada Exited = 0. Apabila nilai Recall untuk Exited = 0 bernilai tinggi, maka False Negative diturunkan yang berarti jumlah tebakan nasabah akan menutup akun (Exited tidak bernilai 0) padahal sebenarnya dia tidak berniat menutup akun (Exited nernilai 0) akan diturunkan. Hasilnya, prediksi model yang menebak nasabah tidak menutup akun akan semakin benar. Konsekuensinya adalah tebakan bahwa nasabah tidak akan menutup akun padahal sebenarnya dia akan menutup akun akan turun ketepatannya. Namun, error tersebut lebih ditoleransi daripada model menebak nasabah akan menutup akun padahal kenyataannya nasabah tidak berniat menutup akun. Bila Bank menganggap seorang nasabah akan menutup akun, umumnya strategi yang digunakan adalah marketting promo kepada nasabah tersebut. Namun, pengadaan marketting atau promo yang terlalu banyak dapat menurunkan keuntungan Bank sehingga error prediksi nasabah tidak menutup akun padahal sebenarnya dia menutup akun lebih ditoleransi."
   ]
  },
  {
   "cell_type": "markdown",
   "metadata": {},
   "source": [
    "### Dari Classification Report untuk algoritma Decision Tree Classifier, didapatkan bahwa "
   ]
  },
  {
   "cell_type": "code",
   "execution_count": 148,
   "metadata": {},
   "outputs": [],
   "source": [
    "y_predDT2 = model_tuning_scaledDT.predict(X_test_scaled1)"
   ]
  },
  {
   "cell_type": "code",
   "execution_count": 149,
   "metadata": {},
   "outputs": [
    {
     "data": {
      "text/plain": [
       "<matplotlib.axes._subplots.AxesSubplot at 0x1fd6b796bc8>"
      ]
     },
     "execution_count": 149,
     "metadata": {},
     "output_type": "execute_result"
    },
    {
     "data": {
      "image/png": "[encoded data removed]",
      "text/plain": [
       "<Figure size 432x288 with 2 Axes>"
      ]
     },
     "metadata": {
      "needs_background": "light"
     },
     "output_type": "display_data"
    }
   ],
   "source": [
    "cm = confusion_matrix(y_test, y_predDT2, labels=[1, 0]) \n",
    "df = pd.DataFrame(cm, \n",
    "                 columns=['Pred 1', 'Pred 0'],\n",
    "                 index = ['Act 1', 'Act 0'])\n",
    "sns.heatmap(df, annot=True)"
   ]
  },
  {
   "cell_type": "code",
   "execution_count": 151,
   "metadata": {},
   "outputs": [
    {
     "name": "stdout",
     "output_type": "stream",
     "text": [
      "              precision    recall  f1-score   support\n",
      "\n",
      "           0       0.84      0.95      0.89      1593\n",
      "           1       0.61      0.31      0.41       407\n",
      "\n",
      "    accuracy                           0.82      2000\n",
      "   macro avg       0.73      0.63      0.65      2000\n",
      "weighted avg       0.80      0.82      0.80      2000\n",
      "\n"
     ]
    }
   ],
   "source": [
    "print(classification_report(y_test, y_predDT2))"
   ]
  },
  {
   "cell_type": "code",
   "execution_count": 220,
   "metadata": {},
   "outputs": [
    {
     "data": {
      "text/plain": [
       "0.6302820540108677"
      ]
     },
     "execution_count": 220,
     "metadata": {},
     "output_type": "execute_result"
    }
   ],
   "source": [
    "roc_auc_score(y_test, y_predDT2)"
   ]
  },
  {
   "cell_type": "code",
   "execution_count": 225,
   "metadata": {},
   "outputs": [
    {
     "data": {
      "image/png": "[encoded data removed]",
      "text/plain": [
       "<Figure size 720x576 with 1 Axes>"
      ]
     },
     "metadata": {
      "needs_background": "light"
     },
     "output_type": "display_data"
    }
   ],
   "source": [
    "probs = model_tuning_scaledDT.predict_proba(X_test_scaled1)\n",
    "\n",
    "preds = probs[:, 1]\n",
    "\n",
    "fpr, tpr, threshold = roc_curve(y_test, preds)\n",
    "sc = round(auc(fpr,tpr),2)\n",
    "\n",
    "plt.figure(figsize=(10,8))\n",
    "plt.title(\"Receiver Operator Characteristic\")\n",
    "plt.plot(fpr, tpr, 'b', label=f'AUC = {sc} ')\n",
    "\n",
    "plt.plot([0,1], [0,1], 'r-.')\n",
    "\n",
    "plt.ylim([0,1])\n",
    "plt.xlim([0,1])\n",
    "plt.legend(loc=2)\n",
    "plt.ylabel(\"True Positive Rates\")\n",
    "plt.xlabel(\"False Positive Rates\")\n",
    "plt.show()"
   ]
  },
  {
   "cell_type": "code",
   "execution_count": 152,
   "metadata": {},
   "outputs": [],
   "source": [
    "y_predDT3 = model_tuning_scaledDT2.predict(X_test_scaled2)"
   ]
  },
  {
   "cell_type": "code",
   "execution_count": 154,
   "metadata": {},
   "outputs": [
    {
     "data": {
      "text/plain": [
       "<matplotlib.axes._subplots.AxesSubplot at 0x1fd63fe88c8>"
      ]
     },
     "execution_count": 154,
     "metadata": {},
     "output_type": "execute_result"
    },
    {
     "data": {
      "image/png": "[encoded data removed]",
      "text/plain": [
       "<Figure size 432x288 with 2 Axes>"
      ]
     },
     "metadata": {
      "needs_background": "light"
     },
     "output_type": "display_data"
    }
   ],
   "source": [
    "cm = confusion_matrix(y_test, y_predDT3, labels=[1, 0]) \n",
    "df = pd.DataFrame(cm, \n",
    "                 columns=['Pred 1', 'Pred 0'],\n",
    "                 index = ['Act 1', 'Act 0'])\n",
    "sns.heatmap(df, annot=True)"
   ]
  },
  {
   "cell_type": "code",
   "execution_count": 155,
   "metadata": {},
   "outputs": [
    {
     "name": "stdout",
     "output_type": "stream",
     "text": [
      "              precision    recall  f1-score   support\n",
      "\n",
      "           0       0.87      0.93      0.90      1593\n",
      "           1       0.61      0.45      0.52       407\n",
      "\n",
      "    accuracy                           0.83      2000\n",
      "   macro avg       0.74      0.69      0.71      2000\n",
      "weighted avg       0.82      0.83      0.82      2000\n",
      "\n"
     ]
    }
   ],
   "source": [
    "print(classification_report(y_test, y_predDT3))"
   ]
  },
  {
   "cell_type": "code",
   "execution_count": 222,
   "metadata": {},
   "outputs": [
    {
     "data": {
      "text/plain": [
       "0.6868640597454158"
      ]
     },
     "execution_count": 222,
     "metadata": {},
     "output_type": "execute_result"
    }
   ],
   "source": [
    "roc_auc_score(y_test, y_predDT3)"
   ]
  },
  {
   "cell_type": "code",
   "execution_count": 226,
   "metadata": {},
   "outputs": [
    {
     "data": {
      "image/png": "[encoded data removed]",
      "text/plain": [
       "<Figure size 720x576 with 1 Axes>"
      ]
     },
     "metadata": {
      "needs_background": "light"
     },
     "output_type": "display_data"
    }
   ],
   "source": [
    "probs = model_tuning_scaledDT2.predict_proba(X_test_scaled2)\n",
    "\n",
    "preds = probs[:, 1]\n",
    "\n",
    "fpr, tpr, threshold = roc_curve(y_test, preds)\n",
    "sc = round(auc(fpr,tpr),2)\n",
    "\n",
    "plt.figure(figsize=(10,8))\n",
    "plt.title(\"Receiver Operator Characteristic\")\n",
    "plt.plot(fpr, tpr, 'b', label=f'AUC = {sc} ')\n",
    "\n",
    "plt.plot([0,1], [0,1], 'r-.')\n",
    "\n",
    "plt.ylim([0,1])\n",
    "plt.xlim([0,1])\n",
    "plt.legend(loc=2)\n",
    "plt.ylabel(\"True Positive Rates\")\n",
    "plt.xlabel(\"False Positive Rates\")\n",
    "plt.show()"
   ]
  },
  {
   "cell_type": "code",
   "execution_count": 158,
   "metadata": {},
   "outputs": [],
   "source": [
    "y_predDT4 = model_tuning_scaledDT3.predict(X_test_scaled3)"
   ]
  },
  {
   "cell_type": "code",
   "execution_count": 159,
   "metadata": {},
   "outputs": [
    {
     "data": {
      "text/plain": [
       "<matplotlib.axes._subplots.AxesSubplot at 0x1fd65e312c8>"
      ]
     },
     "execution_count": 159,
     "metadata": {},
     "output_type": "execute_result"
    },
    {
     "data": {
      "image/png": "[encoded data removed]",
      "text/plain": [
       "<Figure size 432x288 with 2 Axes>"
      ]
     },
     "metadata": {
      "needs_background": "light"
     },
     "output_type": "display_data"
    }
   ],
   "source": [
    "cm = confusion_matrix(y_test, y_predDT4, labels=[1, 0]) \n",
    "df = pd.DataFrame(cm, \n",
    "                 columns=['Pred 1', 'Pred 0'],\n",
    "                 index = ['Act 1', 'Act 0'])\n",
    "sns.heatmap(df, annot=True)"
   ]
  },
  {
   "cell_type": "code",
   "execution_count": 160,
   "metadata": {},
   "outputs": [
    {
     "name": "stdout",
     "output_type": "stream",
     "text": [
      "              precision    recall  f1-score   support\n",
      "\n",
      "           0       0.85      0.95      0.90      1593\n",
      "           1       0.64      0.36      0.46       407\n",
      "\n",
      "    accuracy                           0.83      2000\n",
      "   macro avg       0.75      0.65      0.68      2000\n",
      "weighted avg       0.81      0.83      0.81      2000\n",
      "\n"
     ]
    }
   ],
   "source": [
    "print(classification_report(y_test, y_predDT4))"
   ]
  },
  {
   "cell_type": "code",
   "execution_count": 224,
   "metadata": {},
   "outputs": [
    {
     "data": {
      "text/plain": [
       "0.6536235773523908"
      ]
     },
     "execution_count": 224,
     "metadata": {},
     "output_type": "execute_result"
    }
   ],
   "source": [
    "roc_auc_score(y_test, y_predDT4)"
   ]
  },
  {
   "cell_type": "code",
   "execution_count": 227,
   "metadata": {},
   "outputs": [
    {
     "data": {
      "image/png": "[encoded data removed]",
      "text/plain": [
       "<Figure size 720x576 with 1 Axes>"
      ]
     },
     "metadata": {
      "needs_background": "light"
     },
     "output_type": "display_data"
    }
   ],
   "source": [
    "probs = model_tuning_scaledDT3.predict_proba(X_test_scaled3)\n",
    "\n",
    "preds = probs[:, 1]\n",
    "\n",
    "fpr, tpr, threshold = roc_curve(y_test, preds)\n",
    "sc = round(auc(fpr,tpr),2)\n",
    "\n",
    "plt.figure(figsize=(10,8))\n",
    "plt.title(\"Receiver Operator Characteristic\")\n",
    "plt.plot(fpr, tpr, 'b', label=f'AUC = {sc} ')\n",
    "\n",
    "plt.plot([0,1], [0,1], 'r-.')\n",
    "\n",
    "plt.ylim([0,1])\n",
    "plt.xlim([0,1])\n",
    "plt.legend(loc=2)\n",
    "plt.ylabel(\"True Positive Rates\")\n",
    "plt.xlabel(\"False Positive Rates\")\n",
    "plt.show()"
   ]
  },
  {
   "cell_type": "code",
   "execution_count": 122,
   "metadata": {},
   "outputs": [],
   "source": [
    "y_predRF = model_tuningRF.predict(X_test)"
   ]
  },
  {
   "cell_type": "code",
   "execution_count": 123,
   "metadata": {},
   "outputs": [
    {
     "data": {
      "text/plain": [
       "<matplotlib.axes._subplots.AxesSubplot at 0x1fd6b86eb88>"
      ]
     },
     "execution_count": 123,
     "metadata": {},
     "output_type": "execute_result"
    },
    {
     "data": {
      "image/png": "[encoded data removed]",
      "text/plain": [
       "<Figure size 432x288 with 2 Axes>"
      ]
     },
     "metadata": {
      "needs_background": "light"
     },
     "output_type": "display_data"
    }
   ],
   "source": [
    "cm = confusion_matrix(y_test, y_predRF, labels=[1, 0]) \n",
    "df = pd.DataFrame(cm, \n",
    "                 columns=['Pred 1', 'Pred 0'],\n",
    "                 index = ['Act 1', 'Act 0'])\n",
    "sns.heatmap(df, annot=True)"
   ]
  },
  {
   "cell_type": "code",
   "execution_count": 124,
   "metadata": {},
   "outputs": [
    {
     "name": "stdout",
     "output_type": "stream",
     "text": [
      "              precision    recall  f1-score   support\n",
      "\n",
      "           0       0.84      0.97      0.90      1593\n",
      "           1       0.72      0.30      0.42       407\n",
      "\n",
      "    accuracy                           0.83      2000\n",
      "   macro avg       0.78      0.63      0.66      2000\n",
      "weighted avg       0.82      0.83      0.81      2000\n",
      "\n"
     ]
    }
   ],
   "source": [
    "print(classification_report(y_test, y_predRF))"
   ]
  },
  {
   "cell_type": "code",
   "execution_count": 228,
   "metadata": {},
   "outputs": [
    {
     "data": {
      "text/plain": [
       "0.6348112365061517"
      ]
     },
     "execution_count": 228,
     "metadata": {},
     "output_type": "execute_result"
    }
   ],
   "source": [
    "roc_auc_score(y_test, y_predRF)"
   ]
  },
  {
   "cell_type": "code",
   "execution_count": 230,
   "metadata": {},
   "outputs": [
    {
     "data": {
      "image/png": "[encoded data removed]",
      "text/plain": [
       "<Figure size 720x576 with 1 Axes>"
      ]
     },
     "metadata": {
      "needs_background": "light"
     },
     "output_type": "display_data"
    }
   ],
   "source": [
    "probs = model_tuningRF.predict_proba(X_test)\n",
    "\n",
    "preds = probs[:, 1]\n",
    "\n",
    "fpr, tpr, threshold = roc_curve(y_test, preds)\n",
    "sc = round(auc(fpr,tpr),2)\n",
    "\n",
    "plt.figure(figsize=(10,8))\n",
    "plt.title(\"Receiver Operator Characteristic\")\n",
    "plt.plot(fpr, tpr, 'b', label=f'AUC = {sc} ')\n",
    "\n",
    "plt.plot([0,1], [0,1], 'r-.')\n",
    "\n",
    "plt.ylim([0,1])\n",
    "plt.xlim([0,1])\n",
    "plt.legend(loc=2)\n",
    "plt.ylabel(\"True Positive Rates\")\n",
    "plt.xlabel(\"False Positive Rates\")\n",
    "plt.show()"
   ]
  },
  {
   "cell_type": "code",
   "execution_count": 170,
   "metadata": {},
   "outputs": [],
   "source": [
    "y_predRF2 = model_tuning_scaledRF.predict(X_test_scaled1)"
   ]
  },
  {
   "cell_type": "code",
   "execution_count": 171,
   "metadata": {},
   "outputs": [
    {
     "data": {
      "text/plain": [
       "<matplotlib.axes._subplots.AxesSubplot at 0x1fd6baaaec8>"
      ]
     },
     "execution_count": 171,
     "metadata": {},
     "output_type": "execute_result"
    },
    {
     "data": {
      "image/png": "[encoded data removed]",
      "text/plain": [
       "<Figure size 432x288 with 2 Axes>"
      ]
     },
     "metadata": {
      "needs_background": "light"
     },
     "output_type": "display_data"
    }
   ],
   "source": [
    "cm = confusion_matrix(y_test, y_predRF2, labels=[1, 0]) \n",
    "df = pd.DataFrame(cm, \n",
    "                 columns=['Pred 1', 'Pred 0'],\n",
    "                 index = ['Act 1', 'Act 0'])\n",
    "sns.heatmap(df, annot=True)"
   ]
  },
  {
   "cell_type": "code",
   "execution_count": 172,
   "metadata": {},
   "outputs": [
    {
     "name": "stdout",
     "output_type": "stream",
     "text": [
      "              precision    recall  f1-score   support\n",
      "\n",
      "           0       0.85      0.97      0.90      1593\n",
      "           1       0.71      0.32      0.44       407\n",
      "\n",
      "    accuracy                           0.84      2000\n",
      "   macro avg       0.78      0.64      0.67      2000\n",
      "weighted avg       0.82      0.84      0.81      2000\n",
      "\n"
     ]
    }
   ],
   "source": [
    "print(classification_report(y_test, y_predRF2))"
   ]
  },
  {
   "cell_type": "code",
   "execution_count": 231,
   "metadata": {},
   "outputs": [
    {
     "data": {
      "text/plain": [
       "0.6433837535532451"
      ]
     },
     "execution_count": 231,
     "metadata": {},
     "output_type": "execute_result"
    }
   ],
   "source": [
    "roc_auc_score(y_test, y_predRF2)"
   ]
  },
  {
   "cell_type": "code",
   "execution_count": 232,
   "metadata": {},
   "outputs": [
    {
     "data": {
      "image/png": "[encoded data removed]",
      "text/plain": [
       "<Figure size 720x576 with 1 Axes>"
      ]
     },
     "metadata": {
      "needs_background": "light"
     },
     "output_type": "display_data"
    }
   ],
   "source": [
    "probs = model_tuning_scaledRF.predict_proba(X_test_scaled1)\n",
    "\n",
    "preds = probs[:, 1]\n",
    "\n",
    "fpr, tpr, threshold = roc_curve(y_test, preds)\n",
    "sc = round(auc(fpr,tpr),2)\n",
    "\n",
    "plt.figure(figsize=(10,8))\n",
    "plt.title(\"Receiver Operator Characteristic\")\n",
    "plt.plot(fpr, tpr, 'b', label=f'AUC = {sc} ')\n",
    "\n",
    "plt.plot([0,1], [0,1], 'r-.')\n",
    "\n",
    "plt.ylim([0,1])\n",
    "plt.xlim([0,1])\n",
    "plt.legend(loc=2)\n",
    "plt.ylabel(\"True Positive Rates\")\n",
    "plt.xlabel(\"False Positive Rates\")\n",
    "plt.show()"
   ]
  },
  {
   "cell_type": "code",
   "execution_count": 173,
   "metadata": {},
   "outputs": [],
   "source": [
    "y_predRF3 = model_tuning_scaledRF2.predict(X_test_scaled2)"
   ]
  },
  {
   "cell_type": "code",
   "execution_count": 174,
   "metadata": {},
   "outputs": [
    {
     "data": {
      "text/plain": [
       "<matplotlib.axes._subplots.AxesSubplot at 0x1fd6b8e1f08>"
      ]
     },
     "execution_count": 174,
     "metadata": {},
     "output_type": "execute_result"
    },
    {
     "data": {
      "image/png": "[encoded data removed]",
      "text/plain": [
       "<Figure size 432x288 with 2 Axes>"
      ]
     },
     "metadata": {
      "needs_background": "light"
     },
     "output_type": "display_data"
    }
   ],
   "source": [
    "cm = confusion_matrix(y_test, y_predRF3, labels=[1, 0]) \n",
    "df = pd.DataFrame(cm, \n",
    "                 columns=['Pred 1', 'Pred 0'],\n",
    "                 index = ['Act 1', 'Act 0'])\n",
    "sns.heatmap(df, annot=True)"
   ]
  },
  {
   "cell_type": "code",
   "execution_count": 175,
   "metadata": {},
   "outputs": [
    {
     "name": "stdout",
     "output_type": "stream",
     "text": [
      "              precision    recall  f1-score   support\n",
      "\n",
      "           0       0.86      0.95      0.90      1593\n",
      "           1       0.66      0.40      0.50       407\n",
      "\n",
      "    accuracy                           0.84      2000\n",
      "   macro avg       0.76      0.67      0.70      2000\n",
      "weighted avg       0.82      0.84      0.82      2000\n",
      "\n"
     ]
    }
   ],
   "source": [
    "print(classification_report(y_test, y_predRF3))"
   ]
  },
  {
   "cell_type": "code",
   "execution_count": 233,
   "metadata": {},
   "outputs": [
    {
     "data": {
      "text/plain": [
       "0.6729657238131815"
      ]
     },
     "execution_count": 233,
     "metadata": {},
     "output_type": "execute_result"
    }
   ],
   "source": [
    "roc_auc_score(y_test, y_predRF3)"
   ]
  },
  {
   "cell_type": "code",
   "execution_count": 234,
   "metadata": {},
   "outputs": [
    {
     "data": {
      "image/png": "[encoded data removed]",
      "text/plain": [
       "<Figure size 720x576 with 1 Axes>"
      ]
     },
     "metadata": {
      "needs_background": "light"
     },
     "output_type": "display_data"
    }
   ],
   "source": [
    "probs = model_tuning_scaledRF2.predict_proba(X_test_scaled2)\n",
    "\n",
    "preds = probs[:, 1]\n",
    "\n",
    "fpr, tpr, threshold = roc_curve(y_test, preds)\n",
    "sc = round(auc(fpr,tpr),2)\n",
    "\n",
    "plt.figure(figsize=(10,8))\n",
    "plt.title(\"Receiver Operator Characteristic\")\n",
    "plt.plot(fpr, tpr, 'b', label=f'AUC = {sc} ')\n",
    "\n",
    "plt.plot([0,1], [0,1], 'r-.')\n",
    "\n",
    "plt.ylim([0,1])\n",
    "plt.xlim([0,1])\n",
    "plt.legend(loc=2)\n",
    "plt.ylabel(\"True Positive Rates\")\n",
    "plt.xlabel(\"False Positive Rates\")\n",
    "plt.show()"
   ]
  },
  {
   "cell_type": "code",
   "execution_count": 176,
   "metadata": {},
   "outputs": [],
   "source": [
    "y_predRF4 = model_tuning_scaledRF3.predict(X_test_scaled3)"
   ]
  },
  {
   "cell_type": "code",
   "execution_count": 177,
   "metadata": {},
   "outputs": [
    {
     "data": {
      "text/plain": [
       "<matplotlib.axes._subplots.AxesSubplot at 0x1fd692c1848>"
      ]
     },
     "execution_count": 177,
     "metadata": {},
     "output_type": "execute_result"
    },
    {
     "data": {
      "image/png": "[encoded data removed]",
      "text/plain": [
       "<Figure size 432x288 with 2 Axes>"
      ]
     },
     "metadata": {
      "needs_background": "light"
     },
     "output_type": "display_data"
    }
   ],
   "source": [
    "cm = confusion_matrix(y_test, y_predRF4, labels=[1, 0]) \n",
    "df = pd.DataFrame(cm, \n",
    "                 columns=['Pred 1', 'Pred 0'],\n",
    "                 index = ['Act 1', 'Act 0'])\n",
    "sns.heatmap(df, annot=True)"
   ]
  },
  {
   "cell_type": "code",
   "execution_count": 178,
   "metadata": {},
   "outputs": [
    {
     "name": "stdout",
     "output_type": "stream",
     "text": [
      "              precision    recall  f1-score   support\n",
      "\n",
      "           0       0.84      0.97      0.90      1593\n",
      "           1       0.71      0.30      0.42       407\n",
      "\n",
      "    accuracy                           0.83      2000\n",
      "   macro avg       0.78      0.63      0.66      2000\n",
      "weighted avg       0.82      0.83      0.80      2000\n",
      "\n"
     ]
    }
   ],
   "source": [
    "print(classification_report(y_test, y_predRF4))"
   ]
  },
  {
   "cell_type": "code",
   "execution_count": 235,
   "metadata": {},
   "outputs": [
    {
     "data": {
      "text/plain": [
       "0.6329549888871924"
      ]
     },
     "execution_count": 235,
     "metadata": {},
     "output_type": "execute_result"
    }
   ],
   "source": [
    "roc_auc_score(y_test, y_predRF4)"
   ]
  },
  {
   "cell_type": "code",
   "execution_count": 236,
   "metadata": {},
   "outputs": [
    {
     "data": {
      "image/png": "[encoded data removed]",
      "text/plain": [
       "<Figure size 720x576 with 1 Axes>"
      ]
     },
     "metadata": {
      "needs_background": "light"
     },
     "output_type": "display_data"
    }
   ],
   "source": [
    "probs = model_tuning_scaledRF3.predict_proba(X_test_scaled3)\n",
    "\n",
    "preds = probs[:, 1]\n",
    "\n",
    "fpr, tpr, threshold = roc_curve(y_test, preds)\n",
    "sc = round(auc(fpr,tpr),2)\n",
    "\n",
    "plt.figure(figsize=(10,8))\n",
    "plt.title(\"Receiver Operator Characteristic\")\n",
    "plt.plot(fpr, tpr, 'b', label=f'AUC = {sc} ')\n",
    "\n",
    "plt.plot([0,1], [0,1], 'r-.')\n",
    "\n",
    "plt.ylim([0,1])\n",
    "plt.xlim([0,1])\n",
    "plt.legend(loc=2)\n",
    "plt.ylabel(\"True Positive Rates\")\n",
    "plt.xlabel(\"False Positive Rates\")\n",
    "plt.show()"
   ]
  },
  {
   "cell_type": "code",
   "execution_count": 179,
   "metadata": {},
   "outputs": [],
   "source": [
    "y_predSVM = model_tuning_SVM.predict(X_test)"
   ]
  },
  {
   "cell_type": "code",
   "execution_count": 180,
   "metadata": {},
   "outputs": [
    {
     "data": {
      "text/plain": [
       "<matplotlib.axes._subplots.AxesSubplot at 0x1fd668c5848>"
      ]
     },
     "execution_count": 180,
     "metadata": {},
     "output_type": "execute_result"
    },
    {
     "data": {
      "image/png": "[encoded data removed]",
      "text/plain": [
       "<Figure size 432x288 with 2 Axes>"
      ]
     },
     "metadata": {
      "needs_background": "light"
     },
     "output_type": "display_data"
    }
   ],
   "source": [
    "cm = confusion_matrix(y_test, y_predSVM, labels=[1, 0]) \n",
    "df = pd.DataFrame(cm, \n",
    "                 columns=['Pred 1', 'Pred 0'],\n",
    "                 index = ['Act 1', 'Act 0'])\n",
    "sns.heatmap(df, annot=True)"
   ]
  },
  {
   "cell_type": "code",
   "execution_count": 181,
   "metadata": {},
   "outputs": [
    {
     "name": "stdout",
     "output_type": "stream",
     "text": [
      "              precision    recall  f1-score   support\n",
      "\n",
      "           0       0.00      0.00      0.00      1593\n",
      "           1       0.20      1.00      0.34       407\n",
      "\n",
      "    accuracy                           0.20      2000\n",
      "   macro avg       0.10      0.50      0.17      2000\n",
      "weighted avg       0.04      0.20      0.07      2000\n",
      "\n"
     ]
    },
    {
     "name": "stderr",
     "output_type": "stream",
     "text": [
      "C:\\Users\\ASUS\\anaconda3\\lib\\site-packages\\sklearn\\metrics\\_classification.py:1221: UndefinedMetricWarning: Precision and F-score are ill-defined and being set to 0.0 in labels with no predicted samples. Use `zero_division` parameter to control this behavior.\n",
      "  _warn_prf(average, modifier, msg_start, len(result))\n"
     ]
    }
   ],
   "source": [
    "print(classification_report(y_test, y_predSVM))"
   ]
  },
  {
   "cell_type": "code",
   "execution_count": 182,
   "metadata": {},
   "outputs": [],
   "source": [
    "y_predSVM2 = model_tuning_scaledSVM.predict(X_test_scaled1)"
   ]
  },
  {
   "cell_type": "code",
   "execution_count": 183,
   "metadata": {},
   "outputs": [
    {
     "data": {
      "text/plain": [
       "<matplotlib.axes._subplots.AxesSubplot at 0x1fd668bd108>"
      ]
     },
     "execution_count": 183,
     "metadata": {},
     "output_type": "execute_result"
    },
    {
     "data": {
      "image/png": "[encoded data removed]",
      "text/plain": [
       "<Figure size 432x288 with 2 Axes>"
      ]
     },
     "metadata": {
      "needs_background": "light"
     },
     "output_type": "display_data"
    }
   ],
   "source": [
    "cm = confusion_matrix(y_test, y_predSVM2, labels=[1, 0]) \n",
    "df = pd.DataFrame(cm, \n",
    "                 columns=['Pred 1', 'Pred 0'],\n",
    "                 index = ['Act 1', 'Act 0'])\n",
    "sns.heatmap(df, annot=True)"
   ]
  },
  {
   "cell_type": "code",
   "execution_count": 184,
   "metadata": {},
   "outputs": [
    {
     "name": "stdout",
     "output_type": "stream",
     "text": [
      "              precision    recall  f1-score   support\n",
      "\n",
      "           0       0.80      1.00      0.89      1593\n",
      "           1       0.00      0.00      0.00       407\n",
      "\n",
      "    accuracy                           0.80      2000\n",
      "   macro avg       0.40      0.50      0.44      2000\n",
      "weighted avg       0.63      0.80      0.71      2000\n",
      "\n"
     ]
    },
    {
     "name": "stderr",
     "output_type": "stream",
     "text": [
      "C:\\Users\\ASUS\\anaconda3\\lib\\site-packages\\sklearn\\metrics\\_classification.py:1221: UndefinedMetricWarning: Precision and F-score are ill-defined and being set to 0.0 in labels with no predicted samples. Use `zero_division` parameter to control this behavior.\n",
      "  _warn_prf(average, modifier, msg_start, len(result))\n"
     ]
    }
   ],
   "source": [
    "print(classification_report(y_test, y_predSVM2))"
   ]
  },
  {
   "cell_type": "code",
   "execution_count": 185,
   "metadata": {},
   "outputs": [],
   "source": [
    "y_predSVM3 = model_tuning_scaledSVM2.predict(X_test_scaled2)"
   ]
  },
  {
   "cell_type": "code",
   "execution_count": 186,
   "metadata": {},
   "outputs": [
    {
     "data": {
      "text/plain": [
       "<matplotlib.axes._subplots.AxesSubplot at 0x1fd65d088c8>"
      ]
     },
     "execution_count": 186,
     "metadata": {},
     "output_type": "execute_result"
    },
    {
     "data": {
      "image/png": "[encoded data removed]",
      "text/plain": [
       "<Figure size 432x288 with 2 Axes>"
      ]
     },
     "metadata": {
      "needs_background": "light"
     },
     "output_type": "display_data"
    }
   ],
   "source": [
    "cm = confusion_matrix(y_test, y_predSVM3, labels=[1, 0]) \n",
    "df = pd.DataFrame(cm, \n",
    "                 columns=['Pred 1', 'Pred 0'],\n",
    "                 index = ['Act 1', 'Act 0'])\n",
    "sns.heatmap(df, annot=True)"
   ]
  },
  {
   "cell_type": "code",
   "execution_count": 187,
   "metadata": {},
   "outputs": [
    {
     "name": "stdout",
     "output_type": "stream",
     "text": [
      "              precision    recall  f1-score   support\n",
      "\n",
      "           0       0.80      1.00      0.89      1593\n",
      "           1       0.00      0.00      0.00       407\n",
      "\n",
      "    accuracy                           0.80      2000\n",
      "   macro avg       0.40      0.50      0.44      2000\n",
      "weighted avg       0.63      0.80      0.71      2000\n",
      "\n"
     ]
    },
    {
     "name": "stderr",
     "output_type": "stream",
     "text": [
      "C:\\Users\\ASUS\\anaconda3\\lib\\site-packages\\sklearn\\metrics\\_classification.py:1221: UndefinedMetricWarning: Precision and F-score are ill-defined and being set to 0.0 in labels with no predicted samples. Use `zero_division` parameter to control this behavior.\n",
      "  _warn_prf(average, modifier, msg_start, len(result))\n"
     ]
    }
   ],
   "source": [
    "print(classification_report(y_test, y_predSVM3))"
   ]
  },
  {
   "cell_type": "code",
   "execution_count": 188,
   "metadata": {},
   "outputs": [],
   "source": [
    "y_predSVM4 = model_tuning_scaledSVM3.predict(X_test_scaled3)"
   ]
  },
  {
   "cell_type": "code",
   "execution_count": 189,
   "metadata": {},
   "outputs": [
    {
     "data": {
      "text/plain": [
       "<matplotlib.axes._subplots.AxesSubplot at 0x1fd67773fc8>"
      ]
     },
     "execution_count": 189,
     "metadata": {},
     "output_type": "execute_result"
    },
    {
     "data": {
      "image/png": "[encoded data removed]",
      "text/plain": [
       "<Figure size 432x288 with 2 Axes>"
      ]
     },
     "metadata": {
      "needs_background": "light"
     },
     "output_type": "display_data"
    }
   ],
   "source": [
    "cm = confusion_matrix(y_test, y_predSVM4, labels=[1, 0]) \n",
    "df = pd.DataFrame(cm, \n",
    "                 columns=['Pred 1', 'Pred 0'],\n",
    "                 index = ['Act 1', 'Act 0'])\n",
    "sns.heatmap(df, annot=True)"
   ]
  },
  {
   "cell_type": "code",
   "execution_count": 190,
   "metadata": {},
   "outputs": [
    {
     "name": "stdout",
     "output_type": "stream",
     "text": [
      "              precision    recall  f1-score   support\n",
      "\n",
      "           0       0.80      1.00      0.89      1593\n",
      "           1       0.00      0.00      0.00       407\n",
      "\n",
      "    accuracy                           0.80      2000\n",
      "   macro avg       0.40      0.50      0.44      2000\n",
      "weighted avg       0.63      0.80      0.71      2000\n",
      "\n"
     ]
    },
    {
     "name": "stderr",
     "output_type": "stream",
     "text": [
      "C:\\Users\\ASUS\\anaconda3\\lib\\site-packages\\sklearn\\metrics\\_classification.py:1221: UndefinedMetricWarning: Precision and F-score are ill-defined and being set to 0.0 in labels with no predicted samples. Use `zero_division` parameter to control this behavior.\n",
      "  _warn_prf(average, modifier, msg_start, len(result))\n"
     ]
    }
   ],
   "source": [
    "print(classification_report(y_test, y_predSVM4))"
   ]
  },
  {
   "cell_type": "code",
   "execution_count": 250,
   "metadata": {},
   "outputs": [],
   "source": [
    "y_predX = model_tuning_XGB.predict(X_test)"
   ]
  },
  {
   "cell_type": "code",
   "execution_count": 251,
   "metadata": {},
   "outputs": [
    {
     "data": {
      "text/plain": [
       "<matplotlib.axes._subplots.AxesSubplot at 0x1fd69614048>"
      ]
     },
     "execution_count": 251,
     "metadata": {},
     "output_type": "execute_result"
    },
    {
     "data": {
      "image/png": "[encoded data removed]",
      "text/plain": [
       "<Figure size 432x288 with 2 Axes>"
      ]
     },
     "metadata": {
      "needs_background": "light"
     },
     "output_type": "display_data"
    }
   ],
   "source": [
    "cm = confusion_matrix(y_test, y_predX, labels=[1, 0]) \n",
    "df = pd.DataFrame(cm, \n",
    "                 columns=['Pred 1', 'Pred 0'],\n",
    "                 index = ['Act 1', 'Act 0'])\n",
    "sns.heatmap(df, annot=True)"
   ]
  },
  {
   "cell_type": "code",
   "execution_count": 252,
   "metadata": {},
   "outputs": [
    {
     "name": "stdout",
     "output_type": "stream",
     "text": [
      "              precision    recall  f1-score   support\n",
      "\n",
      "           0       0.85      0.96      0.90      1593\n",
      "           1       0.70      0.33      0.45       407\n",
      "\n",
      "    accuracy                           0.84      2000\n",
      "   macro avg       0.78      0.65      0.68      2000\n",
      "weighted avg       0.82      0.84      0.81      2000\n",
      "\n"
     ]
    }
   ],
   "source": [
    "print(classification_report(y_test, y_predX))"
   ]
  },
  {
   "cell_type": "code",
   "execution_count": 237,
   "metadata": {},
   "outputs": [
    {
     "data": {
      "text/plain": [
       "0.6491853949481068"
      ]
     },
     "execution_count": 237,
     "metadata": {},
     "output_type": "execute_result"
    }
   ],
   "source": [
    "roc_auc_score(y_test, y_predX)"
   ]
  },
  {
   "cell_type": "code",
   "execution_count": 256,
   "metadata": {},
   "outputs": [
    {
     "data": {
      "image/png": "[encoded data removed]",
      "text/plain": [
       "<Figure size 720x576 with 1 Axes>"
      ]
     },
     "metadata": {
      "needs_background": "light"
     },
     "output_type": "display_data"
    }
   ],
   "source": [
    "probs = model_tuning_XGB.predict_proba(X_test)\n",
    "\n",
    "preds = probs[:, 1]\n",
    "\n",
    "fpr, tpr, threshold = roc_curve(y_test, preds)\n",
    "sc = round(auc(fpr,tpr),2)\n",
    "\n",
    "plt.figure(figsize=(10,8))\n",
    "plt.title(\"Receiver Operator Characteristic\")\n",
    "plt.plot(fpr, tpr, 'b', label=f'AUC = {sc} ')\n",
    "\n",
    "plt.plot([0,1], [0,1], 'r-.')\n",
    "\n",
    "plt.ylim([0,1])\n",
    "plt.xlim([0,1])\n",
    "plt.legend(loc=2)\n",
    "plt.ylabel(\"True Positive Rates\")\n",
    "plt.xlabel(\"False Positive Rates\")\n",
    "plt.show()"
   ]
  },
  {
   "cell_type": "code",
   "execution_count": 253,
   "metadata": {},
   "outputs": [],
   "source": [
    "y_predX2 = model_tuning_scaledXGB.predict(X_test_scaled1)"
   ]
  },
  {
   "cell_type": "code",
   "execution_count": 254,
   "metadata": {},
   "outputs": [
    {
     "data": {
      "text/plain": [
       "<matplotlib.axes._subplots.AxesSubplot at 0x1fd695f0388>"
      ]
     },
     "execution_count": 254,
     "metadata": {},
     "output_type": "execute_result"
    },
    {
     "data": {
      "image/png": "[encoded data removed]",
      "text/plain": [
       "<Figure size 432x288 with 2 Axes>"
      ]
     },
     "metadata": {
      "needs_background": "light"
     },
     "output_type": "display_data"
    }
   ],
   "source": [
    "cm = confusion_matrix(y_test, y_predX2, labels=[1, 0]) \n",
    "df = pd.DataFrame(cm, \n",
    "                 columns=['Pred 1', 'Pred 0'],\n",
    "                 index = ['Act 1', 'Act 0'])\n",
    "sns.heatmap(df, annot=True)"
   ]
  },
  {
   "cell_type": "code",
   "execution_count": 257,
   "metadata": {},
   "outputs": [
    {
     "name": "stdout",
     "output_type": "stream",
     "text": [
      "              precision    recall  f1-score   support\n",
      "\n",
      "           0       0.85      0.96      0.90      1593\n",
      "           1       0.71      0.34      0.46       407\n",
      "\n",
      "    accuracy                           0.84      2000\n",
      "   macro avg       0.78      0.65      0.68      2000\n",
      "weighted avg       0.82      0.84      0.81      2000\n",
      "\n"
     ]
    }
   ],
   "source": [
    "print(classification_report(y_test, y_predX2))"
   ]
  },
  {
   "cell_type": "code",
   "execution_count": 258,
   "metadata": {},
   "outputs": [
    {
     "data": {
      "text/plain": [
       "0.650413896176608"
      ]
     },
     "execution_count": 258,
     "metadata": {},
     "output_type": "execute_result"
    }
   ],
   "source": [
    "roc_auc_score(y_test, y_predX2)"
   ]
  },
  {
   "cell_type": "code",
   "execution_count": 259,
   "metadata": {},
   "outputs": [
    {
     "data": {
      "image/png": "[encoded data removed]",
      "text/plain": [
       "<Figure size 720x576 with 1 Axes>"
      ]
     },
     "metadata": {
      "needs_background": "light"
     },
     "output_type": "display_data"
    }
   ],
   "source": [
    "probs = model_tuning_scaledXGB.predict_proba(X_test_scaled1)\n",
    "\n",
    "preds = probs[:, 1]\n",
    "\n",
    "fpr, tpr, threshold = roc_curve(y_test, preds)\n",
    "sc = round(auc(fpr,tpr),2)\n",
    "\n",
    "plt.figure(figsize=(10,8))\n",
    "plt.title(\"Receiver Operator Characteristic\")\n",
    "plt.plot(fpr, tpr, 'b', label=f'AUC = {sc} ')\n",
    "\n",
    "plt.plot([0,1], [0,1], 'r-.')\n",
    "\n",
    "plt.ylim([0,1])\n",
    "plt.xlim([0,1])\n",
    "plt.legend(loc=2)\n",
    "plt.ylabel(\"True Positive Rates\")\n",
    "plt.xlabel(\"False Positive Rates\")\n",
    "plt.show()"
   ]
  },
  {
   "cell_type": "code",
   "execution_count": 260,
   "metadata": {},
   "outputs": [],
   "source": [
    "y_predX3 = model_tuning_scaledXGB2.predict(X_test_scaled2)"
   ]
  },
  {
   "cell_type": "code",
   "execution_count": 261,
   "metadata": {},
   "outputs": [
    {
     "data": {
      "text/plain": [
       "<matplotlib.axes._subplots.AxesSubplot at 0x1fd6b7f5988>"
      ]
     },
     "execution_count": 261,
     "metadata": {},
     "output_type": "execute_result"
    },
    {
     "data": {
      "image/png": "[encoded data removed]",
      "text/plain": [
       "<Figure size 432x288 with 2 Axes>"
      ]
     },
     "metadata": {
      "needs_background": "light"
     },
     "output_type": "display_data"
    }
   ],
   "source": [
    "cm = confusion_matrix(y_test, y_predX3, labels=[1, 0]) \n",
    "df = pd.DataFrame(cm, \n",
    "                 columns=['Pred 1', 'Pred 0'],\n",
    "                 index = ['Act 1', 'Act 0'])\n",
    "sns.heatmap(df, annot=True)"
   ]
  },
  {
   "cell_type": "code",
   "execution_count": 262,
   "metadata": {},
   "outputs": [
    {
     "name": "stdout",
     "output_type": "stream",
     "text": [
      "              precision    recall  f1-score   support\n",
      "\n",
      "           0       0.86      0.94      0.90      1593\n",
      "           1       0.64      0.41      0.50       407\n",
      "\n",
      "    accuracy                           0.83      2000\n",
      "   macro avg       0.75      0.68      0.70      2000\n",
      "weighted avg       0.82      0.83      0.82      2000\n",
      "\n"
     ]
    }
   ],
   "source": [
    "print(classification_report(y_test, y_predX3))"
   ]
  },
  {
   "cell_type": "code",
   "execution_count": 263,
   "metadata": {},
   "outputs": [
    {
     "data": {
      "text/plain": [
       "0.6765702528414392"
      ]
     },
     "execution_count": 263,
     "metadata": {},
     "output_type": "execute_result"
    }
   ],
   "source": [
    "roc_auc_score(y_test, y_predX3)"
   ]
  },
  {
   "cell_type": "code",
   "execution_count": 264,
   "metadata": {},
   "outputs": [
    {
     "data": {
      "image/png": "[encoded data removed]",
      "text/plain": [
       "<Figure size 720x576 with 1 Axes>"
      ]
     },
     "metadata": {
      "needs_background": "light"
     },
     "output_type": "display_data"
    }
   ],
   "source": [
    "probs = model_tuning_scaledXGB2.predict_proba(X_test_scaled2)\n",
    "\n",
    "preds = probs[:, 1]\n",
    "\n",
    "fpr, tpr, threshold = roc_curve(y_test, preds)\n",
    "sc = round(auc(fpr,tpr),2)\n",
    "\n",
    "plt.figure(figsize=(10,8))\n",
    "plt.title(\"Receiver Operator Characteristic\")\n",
    "plt.plot(fpr, tpr, 'b', label=f'AUC = {sc} ')\n",
    "\n",
    "plt.plot([0,1], [0,1], 'r-.')\n",
    "\n",
    "plt.ylim([0,1])\n",
    "plt.xlim([0,1])\n",
    "plt.legend(loc=2)\n",
    "plt.ylabel(\"True Positive Rates\")\n",
    "plt.xlabel(\"False Positive Rates\")\n",
    "plt.show()"
   ]
  },
  {
   "cell_type": "code",
   "execution_count": 265,
   "metadata": {},
   "outputs": [],
   "source": [
    "y_predX4 = model_tuning_scaledXGB3.predict(X_test_scaled3)"
   ]
  },
  {
   "cell_type": "code",
   "execution_count": 266,
   "metadata": {},
   "outputs": [
    {
     "data": {
      "text/plain": [
       "<matplotlib.axes._subplots.AxesSubplot at 0x1fd67e63bc8>"
      ]
     },
     "execution_count": 266,
     "metadata": {},
     "output_type": "execute_result"
    },
    {
     "data": {
      "image/png": "[encoded data removed]",
      "text/plain": [
       "<Figure size 432x288 with 2 Axes>"
      ]
     },
     "metadata": {
      "needs_background": "light"
     },
     "output_type": "display_data"
    }
   ],
   "source": [
    "cm = confusion_matrix(y_test, y_predX4, labels=[1, 0]) \n",
    "df = pd.DataFrame(cm, \n",
    "                 columns=['Pred 1', 'Pred 0'],\n",
    "                 index = ['Act 1', 'Act 0'])\n",
    "sns.heatmap(df, annot=True)"
   ]
  },
  {
   "cell_type": "code",
   "execution_count": 267,
   "metadata": {},
   "outputs": [
    {
     "name": "stdout",
     "output_type": "stream",
     "text": [
      "              precision    recall  f1-score   support\n",
      "\n",
      "           0       0.85      0.97      0.90      1593\n",
      "           1       0.71      0.33      0.45       407\n",
      "\n",
      "    accuracy                           0.84      2000\n",
      "   macro avg       0.78      0.65      0.68      2000\n",
      "weighted avg       0.82      0.84      0.81      2000\n",
      "\n"
     ]
    }
   ],
   "source": [
    "print(classification_report(y_test, y_predX4))"
   ]
  },
  {
   "cell_type": "code",
   "execution_count": 268,
   "metadata": {},
   "outputs": [
    {
     "data": {
      "text/plain": [
       "0.6485846401100638"
      ]
     },
     "execution_count": 268,
     "metadata": {},
     "output_type": "execute_result"
    }
   ],
   "source": [
    "roc_auc_score(y_test, y_predX4)"
   ]
  },
  {
   "cell_type": "code",
   "execution_count": 269,
   "metadata": {},
   "outputs": [
    {
     "data": {
      "image/png": "[encoded data removed]",
      "text/plain": [
       "<Figure size 720x576 with 1 Axes>"
      ]
     },
     "metadata": {
      "needs_background": "light"
     },
     "output_type": "display_data"
    }
   ],
   "source": [
    "probs = model_tuning_scaledXGB3.predict_proba(X_test_scaled3)\n",
    "\n",
    "preds = probs[:, 1]\n",
    "\n",
    "fpr, tpr, threshold = roc_curve(y_test, preds)\n",
    "sc = round(auc(fpr,tpr),2)\n",
    "\n",
    "plt.figure(figsize=(10,8))\n",
    "plt.title(\"Receiver Operator Characteristic\")\n",
    "plt.plot(fpr, tpr, 'b', label=f'AUC = {sc} ')\n",
    "\n",
    "plt.plot([0,1], [0,1], 'r-.')\n",
    "\n",
    "plt.ylim([0,1])\n",
    "plt.xlim([0,1])\n",
    "plt.legend(loc=2)\n",
    "plt.ylabel(\"True Positive Rates\")\n",
    "plt.xlabel(\"False Positive Rates\")\n",
    "plt.show()"
   ]
  },
  {
   "cell_type": "markdown",
   "metadata": {},
   "source": [
    "### Algoritma SVM memiliki nilai Precision dan Recall yang rendah untuk Exited = 0 dan Exited = 1 sehingga tidak diperhitungkan."
   ]
  },
  {
   "cell_type": "markdown",
   "metadata": {},
   "source": [
    "### Tipe scaler yang memberikan nilai F1-score tertinggi untuk kasus Exited = 1 adalah MinMaxScaler(). Maka, tipe scaler ini dipilih agar nilai Recall pada Exited = 1 tidak terlalu rendah."
   ]
  },
  {
   "cell_type": "code",
   "execution_count": 141,
   "metadata": {},
   "outputs": [
    {
     "name": "stdout",
     "output_type": "stream",
     "text": [
      "              precision    recall  f1-score   support\n",
      "\n",
      "           0       0.84      0.95      0.89      1593\n",
      "           1       0.61      0.31      0.41       407\n",
      "\n",
      "    accuracy                           0.82      2000\n",
      "   macro avg       0.72      0.63      0.65      2000\n",
      "weighted avg       0.79      0.82      0.79      2000\n",
      "\n"
     ]
    }
   ],
   "source": [
    "print(classification_report(y_test, y_predDT)) # Decision Tree tanpa Scaling"
   ]
  },
  {
   "cell_type": "code",
   "execution_count": 212,
   "metadata": {},
   "outputs": [
    {
     "name": "stdout",
     "output_type": "stream",
     "text": [
      "              precision    recall  f1-score   support\n",
      "\n",
      "           0       0.87      0.93      0.90      1593\n",
      "           1       0.61      0.45      0.52       407\n",
      "\n",
      "    accuracy                           0.83      2000\n",
      "   macro avg       0.74      0.69      0.71      2000\n",
      "weighted avg       0.82      0.83      0.82      2000\n",
      "\n"
     ]
    }
   ],
   "source": [
    "print(classification_report(y_test, y_predDT3)) # Decision Tree dengan MinMaxScaling()"
   ]
  },
  {
   "cell_type": "code",
   "execution_count": 140,
   "metadata": {},
   "outputs": [
    {
     "name": "stdout",
     "output_type": "stream",
     "text": [
      "              precision    recall  f1-score   support\n",
      "\n",
      "           0       0.84      0.97      0.90      1593\n",
      "           1       0.72      0.30      0.42       407\n",
      "\n",
      "    accuracy                           0.83      2000\n",
      "   macro avg       0.78      0.63      0.66      2000\n",
      "weighted avg       0.82      0.83      0.81      2000\n",
      "\n"
     ]
    }
   ],
   "source": [
    "print(classification_report(y_test, y_predRF)) # Random Forest tanpa Scaling"
   ]
  },
  {
   "cell_type": "code",
   "execution_count": 213,
   "metadata": {},
   "outputs": [
    {
     "name": "stdout",
     "output_type": "stream",
     "text": [
      "              precision    recall  f1-score   support\n",
      "\n",
      "           0       0.86      0.95      0.90      1593\n",
      "           1       0.66      0.40      0.50       407\n",
      "\n",
      "    accuracy                           0.84      2000\n",
      "   macro avg       0.76      0.67      0.70      2000\n",
      "weighted avg       0.82      0.84      0.82      2000\n",
      "\n"
     ]
    }
   ],
   "source": [
    "print(classification_report(y_test, y_predRF3))# Random Forest dengan MinMaxScaling()"
   ]
  },
  {
   "cell_type": "code",
   "execution_count": 270,
   "metadata": {},
   "outputs": [
    {
     "name": "stdout",
     "output_type": "stream",
     "text": [
      "              precision    recall  f1-score   support\n",
      "\n",
      "           0       0.85      0.96      0.90      1593\n",
      "           1       0.70      0.33      0.45       407\n",
      "\n",
      "    accuracy                           0.84      2000\n",
      "   macro avg       0.78      0.65      0.68      2000\n",
      "weighted avg       0.82      0.84      0.81      2000\n",
      "\n"
     ]
    }
   ],
   "source": [
    "print(classification_report(y_test, y_predX)) # XGBoost tanpa Scaling"
   ]
  },
  {
   "cell_type": "code",
   "execution_count": 271,
   "metadata": {},
   "outputs": [
    {
     "name": "stdout",
     "output_type": "stream",
     "text": [
      "              precision    recall  f1-score   support\n",
      "\n",
      "           0       0.86      0.94      0.90      1593\n",
      "           1       0.64      0.41      0.50       407\n",
      "\n",
      "    accuracy                           0.83      2000\n",
      "   macro avg       0.75      0.68      0.70      2000\n",
      "weighted avg       0.82      0.83      0.82      2000\n",
      "\n"
     ]
    }
   ],
   "source": [
    "print(classification_report(y_test, y_predX3)) # XGBoost dengan MinMaxScaling()"
   ]
  },
  {
   "cell_type": "markdown",
   "metadata": {},
   "source": [
    "### Algoritma Decision Tree yang di-scaling dengan MinMaxScaler() memiliki nilai F1-score terbaik untuk Exited = 1, maka algoritma tersebut dipilih untuk membangun model yang memprediksi apakah nasabah akan menutup akun atau tidak. "
   ]
  },
  {
   "cell_type": "markdown",
   "metadata": {},
   "source": [
    "# Kesimpulan :\n",
    "- Model machine learning dengan tipe Decision Tree Classifier yang di-scaling dengan MinMaxScaler() dipilih untuk memprediksi apakah nasabah akan menutup akun di Bank atau tidak. Model ini dipilih karena memiliki nilai ROC_AUC dan F1-score yang tertinggi dibandingkan model yang lain.\n",
    "- Nilai mean Credit Score yang tinggi umumnya dimiliki oleh nasabah wanita dan berdomisili di Jerman.\n",
    "- Nilai mean Balance akun di Bank yang besar umumnya dimiliki oleh nasabah pria dan berdomisili di Jerman.\n",
    "- Untuk meningkatkan keuntungan, Bank perlu meningkatkan jumlah nasabah yang berdomisili di Jerman untuk menanamkan deposito di Bank."
   ]
  },
  {
   "cell_type": "code",
   "execution_count": 274,
   "metadata": {},
   "outputs": [],
   "source": [
    "with open('bankModel', 'wb') as ML:\n",
    "    pickle.dump(model_tuning_scaledDT2, ML)"
   ]
  },
  {
   "cell_type": "code",
   "execution_count": null,
   "metadata": {},
   "outputs": [],
   "source": []
  }
 ],
 "metadata": {
  "kernelspec": {
   "display_name": "Python 3",
   "language": "python",
   "name": "python3"
  },
  "language_info": {
   "codemirror_mode": {
    "name": "ipython",
    "version": 3
   },
   "file_extension": ".py",
   "mimetype": "text/x-python",
   "name": "python",
   "nbconvert_exporter": "python",
   "pygments_lexer": "ipython3",
   "version": "3.7.7"
  }
 },
 "nbformat": 4,
 "nbformat_minor": 4
}
